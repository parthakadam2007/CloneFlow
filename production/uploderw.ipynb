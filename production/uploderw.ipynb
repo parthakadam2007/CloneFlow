{
 "cells": [
  {
   "cell_type": "code",
   "execution_count": 1,
   "id": "9e9e712f",
   "metadata": {},
   "outputs": [],
   "source": [
    "from dotenv import load_dotenv\n",
    "load_dotenv()\n",
    "from langchain_google_vertexai import VertexAIEmbeddings\n",
    "from pathlib import Path\n",
    "from langchain_text_splitters import CharacterTextSplitter\n",
    "from langchain_community.document_loaders import PyPDFLoader, TextLoader, UnstructuredExcelLoader, Docx2txtLoader\n",
    "\n",
    "import pickle\n",
    "from langchain_chroma import Chroma"
   ]
  },
  {
   "cell_type": "code",
   "execution_count": 2,
   "id": "2afe59d0",
   "metadata": {},
   "outputs": [],
   "source": [
    "current_dir =Path.cwd() \n",
    "persist_directory = current_dir /'db'/ 'main_db'\n",
    "persist_directory=str(persist_directory)"
   ]
  },
  {
   "cell_type": "code",
   "execution_count": 3,
   "id": "68553b23",
   "metadata": {},
   "outputs": [],
   "source": [
    "from langchain_google_vertexai import VertexAIEmbeddings\n",
    "embeddings = VertexAIEmbeddings(model=\"text-embedding-004\")"
   ]
  },
  {
   "cell_type": "code",
   "execution_count": 4,
   "id": "900493c3",
   "metadata": {},
   "outputs": [],
   "source": [
    "from langchain_chroma import Chroma\n",
    "\n",
    "vector_store = Chroma(\n",
    "    \n",
    "    embedding_function=embeddings,\n",
    "    persist_directory=persist_directory,  # Where to save data locally, remove if not necessary\n",
    ")"
   ]
  },
  {
   "cell_type": "code",
   "execution_count": 5,
   "id": "a2b9c879",
   "metadata": {},
   "outputs": [],
   "source": [
    "\n",
    "def upload_Embeddings():\n",
    "    \"\"\"Function to process files from the 'uploads' directory and store embeddings.\"\"\"\n",
    "    \n",
    "    # Define paths\n",
    "\n",
    "    uploads_path = current_dir / 'uploads'\n",
    "    # uploads_path =r\"C://Users//DELL//Desktop//CloneFlow//backend//uploads\"\n",
    "    \n",
    "    print(\"Current Directory:\", current_dir)\n",
    "\n",
    "\n",
    "    # Get all files in the uploads directory\n",
    "    files = list(uploads_path.glob(\"*\"))  # ✅ More robust than os.listdir()\n",
    "\n",
    "    for f in files:\n",
    "        \n",
    "            ext = f.suffix.lower().lstrip('.')  # ✅ Get file extension safely\n",
    "\n",
    "            # Load document based on file type\n",
    "            if ext == 'txt':\n",
    "                print(f'{f.name} ---> is a txt')\n",
    "                loader = TextLoader(str(f))\n",
    "            elif ext == 'pdf':\n",
    "                print(f'{f.name} ---> is a pdf')\n",
    "                loader = PyPDFLoader(str(f))\n",
    "            elif ext == 'docx':\n",
    "                print(f'{f.name} ---> is a docx')\n",
    "                loader = Docx2txtLoader(str(f))\n",
    "            elif ext == 'xlsx':\n",
    "                print(f'{f.name} ---> is an xlsx')\n",
    "                loader = UnstructuredExcelLoader(str(f))\n",
    "            else:\n",
    "                print(f'{f.name} ---> skipped')\n",
    "                continue  \n",
    "\n",
    "            document = loader.load()\n",
    "         \n",
    "\n",
    "            # Split the document into chunks\n",
    "            text_splitter = CharacterTextSplitter(chunk_size=1000, chunk_overlap=50)\n",
    "            docs = text_splitter.split_documents(document)\n",
    "\n",
    "            if not docs:\n",
    "                print(f\"Split into {len(docs)} chunks, so skipped\")\n",
    "                continue\n",
    "\n",
    "            print(f\"Split into {len(docs)} chunks\")\n",
    "\n",
    "            # Generate embeddings and store in Chroma\n",
    "            embeddings = VertexAIEmbeddings(model=\"text-embedding-004\")\n",
    "            vector_store= Chroma.from_documents(docs, embeddings, persist_directory=str(persist_directory))\n",
    "            \n",
    "   \n",
    "                \n",
    "            print(f'Done with embeddings for {f}')\n",
    "       \n",
    "            \n",
    "\n"
   ]
  },
  {
   "cell_type": "code",
   "execution_count": 6,
   "id": "adef1b6a",
   "metadata": {},
   "outputs": [
    {
     "name": "stdout",
     "output_type": "stream",
     "text": [
      "Current Directory: c:\\Users\\DELL\\Desktop\\CloneFlow\\production\n",
      "dataBasePassword.txt ---> is a txt\n",
      "Split into 1 chunks\n",
      "Done with embeddings for c:\\Users\\DELL\\Desktop\\CloneFlow\\production\\uploads\\dataBasePassword.txt\n",
      "requirements.txt ---> is a txt\n",
      "Split into 1 chunks\n"
     ]
    },
    {
     "name": "stderr",
     "output_type": "stream",
     "text": [
      "Created a chunk of size 1067, which is longer than the specified 1000\n"
     ]
    },
    {
     "name": "stdout",
     "output_type": "stream",
     "text": [
      "Done with embeddings for c:\\Users\\DELL\\Desktop\\CloneFlow\\production\\uploads\\requirements.txt\n",
      "youtubeinfo.txt ---> is a txt\n",
      "Split into 26 chunks\n",
      "Done with embeddings for c:\\Users\\DELL\\Desktop\\CloneFlow\\production\\uploads\\youtubeinfo.txt\n"
     ]
    }
   ],
   "source": [
    "\n",
    "upload_Embeddings()"
   ]
  },
  {
   "cell_type": "code",
   "execution_count": 7,
   "id": "a14f04ec",
   "metadata": {},
   "outputs": [
    {
     "name": "stdout",
     "output_type": "stream",
     "text": [
      "[Document(id='f9d20cb2-9ba5-4c15-82c4-efcba0677b48', metadata={'source': 'c:\\\\Users\\\\DELL\\\\Desktop\\\\CloneFlow\\\\production\\\\uploads\\\\youtubeinfo.txt'}, page_content='Several YouTube channels have gained massive followings, with T-Series being the most-subscribed channel, followed by MrBeast, Cocomelon, and PewDiePie. The platform has also played a crucial role in launching the careers of content creators, musicians, and influencers.\\n\\nYouTube has faced multiple challenges over the years, including concerns about copyright infringement, misinformation, privacy issues, and content moderation. The company has implemented policies to combat harmful content, including demonetization of inappropriate videos, stricter copyright enforcement through Content ID, and improved moderation using AI and human reviewers.\\n\\nIn addition to its main platform, YouTube offers YouTube Music, a streaming service for music and music videos; YouTube TV, a live TV streaming service offering cable channels; and YouTube Premium, which provides an ad-free experience, offline downloads, and access to exclusive content.'), Document(id='54f3a039-d6a0-4cf2-b588-917883301990', metadata={'source': 'c:\\\\Users\\\\DELL\\\\Desktop\\\\CloneFlow\\\\production\\\\uploads\\\\youtubeinfo.txt'}, page_content='Key Features\\nVideo Uploads: Users can upload videos in various formats (MP4, MOV, AVI, etc.).\\nLive Streaming: YouTube supports real-time streaming.\\nMonetization: Through YouTube Partner Program (YPP), creators can earn money via ads, memberships, and Super Chats.\\nYouTube Shorts: A feature for short-form videos (15-60 seconds).\\nYouTube Premium: A subscription service offering ad-free viewing, offline downloads, and background play.\\nStatistics (as of 2024)\\nOver 2.7 billion monthly active users\\nMore than 500 hours of video uploaded every minute\\nAvailable in 100+ countries and 80+ languages\\nContent Categories\\nYouTube covers vlogs, gaming, music, education, tech reviews, tutorials, ASMR, news, etc. Popular YouTubers include MrBeast, PewDiePie, T-Series, and Markiplier.'), Document(id='41c18175-f050-4332-b67b-9abacfc1d675', metadata={'source': 'c:\\\\Users\\\\DELL\\\\Desktop\\\\CloneFlow\\\\production\\\\uploads\\\\youtubeinfo.txt'}, page_content='In November 2006, Google acquired YouTube for $1.65 billion in stock, integrating it into its ecosystem and expanding its advertising capabilities. Over the years, YouTube has introduced several features, such as high-definition video, live streaming, monetization programs, and YouTube Shorts, a short-form video format similar to TikTok.\\n\\nAs of 2024, YouTube has over 2.7 billion monthly active users, with more than 500 hours of video uploaded every minute. It supports content creators through the YouTube Partner Program (YPP), allowing them to earn money through ads, channel memberships, and Super Chats.\\n\\nYouTube is available in over 100 countries and supports more than 80 languages. It has become a major platform for influencers, businesses, educators, and entertainers. Popular YouTubers include MrBeast, PewDiePie, T-Series, and Markiplier.')]\n"
     ]
    }
   ],
   "source": [
    "resoure = vector_store.similarity_search(\"youtube\", k=3)\n",
    "print(resoure)"
   ]
  },
  {
   "cell_type": "code",
   "execution_count": 8,
   "id": "02ede458",
   "metadata": {},
   "outputs": [],
   "source": [
    "from langchain_core.prompts import PromptTemplate\n",
    "from langchain_google_genai import ChatGoogleGenerativeAI   \n",
    "from langchain_core.output_parsers import StrOutputParser     \n",
    "from dotenv import load_dotenv\n",
    "load_dotenv()\n",
    "from uuid import uuid4\n",
    "import os\n",
    "llm = ChatGoogleGenerativeAI(\n",
    "    model='gemini-1.5-flash'\n",
    ")"
   ]
  },
  {
   "cell_type": "code",
   "execution_count": null,
   "id": "a5112aae",
   "metadata": {},
   "outputs": [],
   "source": [
    "def json_to_txt(file_path:str):\n",
    "    '''Makes json in txt format using ai if already in text  format returns the same text'''\n",
    "    json_content=[]\n",
    "    \n",
    "    with open(file_path, 'r') as file:\n",
    "        json_content = file.read()\n",
    "        \n",
    "    response = llm.invoke(f\"You are ai whose job is express json in form of sententes:{json_content}\",)\n",
    "    with open(file_path, 'w') as file:\n",
    "        file.write(response.content)\n",
    "        \n",
    "        \n",
    "    print(\"response\",response.content) \n",
    "      \n",
    "    "
   ]
  },
  {
   "cell_type": "code",
   "execution_count": 10,
   "id": "c7818cf4",
   "metadata": {},
   "outputs": [],
   "source": [
    "# json_to_txt(r\"C://Users//DELL\\Desktop//CloneFlow//production//user_settings//user_info.txt\")"
   ]
  },
  {
   "cell_type": "code",
   "execution_count": 11,
   "id": "b82ffad6",
   "metadata": {},
   "outputs": [],
   "source": [
    "def establish_relation():\n",
    "          # Define paths\n",
    "    user_settings = current_dir / 'user_settings' \n",
    "    \n",
    "    files = list((user_settings.glob(\"*\"))) \n",
    "    \n",
    "    print(\"File names in user_settings:\", files)\n",
    "    \n",
    "    uuids = [str(uuid4()) for _ in range(len(files))]  # Generate UUIDs for each file\n",
    "    relationships = {}\n",
    "    for i in range(len(files)):\n",
    "        relationships[files[i].name] =uuids[i]\n",
    "        \n",
    "    print(\"UUIDs:\", uuids)\n",
    "    print(\"Relationships:\", relationships)\n",
    "    "
   ]
  },
  {
   "cell_type": "code",
   "execution_count": 12,
   "id": "d1714cf3",
   "metadata": {},
   "outputs": [],
   "source": [
    "# establish_relation()"
   ]
  },
  {
   "cell_type": "code",
   "execution_count": 13,
   "id": "c08df3e2",
   "metadata": {},
   "outputs": [],
   "source": [
    "# current_dir = Path.cwd()   # ✅ Ensures correct current directory\n",
    "# persist_directory = current_dir / 'db' / 'chroma_db'\n",
    "# user_settings = current_dir / 'user_settings' \n",
    "# files = list((user_settings.glob(\"*\"))) \n",
    "# docslist = []\n",
    "# for f in files:\n",
    "    \n",
    "#         json_to_txt(str(f))  # Convert JSON to text format\n",
    "#         print(f)\n",
    "#         loader = TextLoader(str(f)) \n",
    "#         document = loader.load()\n",
    "#         text_splitter = CharacterTextSplitter(chunk_size=1000, chunk_overlap=50)\n",
    "#         docs = text_splitter.split_documents(document)\n",
    "#         docslist.append(docs)\n",
    "#         print(\"docs\",docs)\n",
    "        "
   ]
  },
  {
   "cell_type": "code",
   "execution_count": 14,
   "id": "de8624e5",
   "metadata": {},
   "outputs": [],
   "source": [
    "def storing_vector_user_settings():\n",
    "    \"\"\"Function to  store vector embeddings for user settings.\"\"\"\n",
    "        # Define paths\n",
    "\n",
    "    user_settings = current_dir / 'user_settings' \n",
    "    files = list((user_settings.glob(\"*\"))) \n",
    "    \n",
    "    # relationships = {}\n",
    "    \n",
    "    # # making ids for each file\n",
    "    # ids= [x for x in range(len(files))]\n",
    "    # ids= [str(x) for x in ids]  # Convert to string\n",
    "    \n",
    "    # for i in range(len(files)):\n",
    "    #     relationships[files[i].name] =ids[i]\n",
    "        \n",
    "        \n",
    "    for f in files:\n",
    "        # json_to_txt(str(f))  # Convert JSON to text format\n",
    "        print(f)\n",
    "        loader = TextLoader(str(f)) \n",
    "        document = loader.load()\n",
    "        text_splitter = CharacterTextSplitter(chunk_size=1000, chunk_overlap=50)\n",
    "        docs = text_splitter.split_documents(document)\n",
    "\n",
    "    \n",
    "        if not docs:\n",
    "         print(f\"Split into {len(docs)} chunks, so skipped\")\n",
    "         continue\n",
    "\n",
    "        print(f\"Split into {len(docs)} chunks\")\n",
    "        \n",
    "    \n",
    "        vector_store= Chroma.from_documents(docs, embeddings, persist_directory=str(persist_directory))\n",
    "        \n",
    "    \n",
    " \n",
    "    \n",
    " "
   ]
  },
  {
   "cell_type": "code",
   "execution_count": 15,
   "id": "7aea20c9",
   "metadata": {},
   "outputs": [
    {
     "data": {
      "text/plain": [
       "{'contact.txt': '0', 'instruction.txt': '1', 'user_info.txt': '2'}"
      ]
     },
     "execution_count": 15,
     "metadata": {},
     "output_type": "execute_result"
    }
   ],
   "source": [
    "\n",
    "user_settings = current_dir / 'user_settings' \n",
    "files = list((user_settings.glob(\"*\"))) \n",
    "    \n",
    "relationships = {}\n",
    "    \n",
    "    # making ids for each file\n",
    "ids= [x for x in range(len(files))]\n",
    "ids= [str(x) for x in ids]  # Convert to string\n",
    "    \n",
    "for i in range(len(files)):\n",
    "     relationships[files[i].name] =ids[i]\n",
    "relationships    \n",
    "        "
   ]
  },
  {
   "cell_type": "code",
   "execution_count": 16,
   "id": "b96e0797",
   "metadata": {},
   "outputs": [],
   "source": [
    "# storing_vector_user_settings()"
   ]
  },
  {
   "cell_type": "code",
   "execution_count": null,
   "id": "95743d4a",
   "metadata": {},
   "outputs": [],
   "source": [
    "def docs_list():\n",
    "    from itertools import chain\n",
    "    \"\"\"Function to load the vector store from the database.\"\"\"\n",
    "        # Define paths\n",
    "\n",
    "    user_settings = current_dir / 'user_settings' \n",
    "    files = list((user_settings.glob(\"*\"))) \n",
    "    print([os.path.basename(f) for f in files])\n",
    "    docslist = []\n",
    "    \n",
    "    for f in files:\n",
    "        # json_to_txt(str(f))  # Convert JSON to text format\n",
    "        # print(f)\n",
    "        loader = TextLoader(str(f)) \n",
    "        document = loader.load()\n",
    "        \n",
    "        if not document:\n",
    "            print(f\"Split into {len(document)} chunks, so skipped\")\n",
    "            continue\n",
    "           \n",
    "        if os.path.basename(f) == 'contact.txt':\n",
    "            text_splitter = CharacterTextSplitter(chunk_size=5, chunk_overlap=10)\n",
    "            docs = text_splitter.split_documents(document)\n",
    "            print(\"docs\",docs)\n",
    "            \n",
    "            \n",
    "        text_splitter = CharacterTextSplitter(chunk_size=1000, chunk_overlap=50)\n",
    "        docs = text_splitter.split_documents(document)\n",
    "        docslist.append(docs)\n",
    "        # print(\"docs\",docs)\n",
    "        \n",
    "        \n",
    "    print(\"docslist\",docslist)    \n",
    "    return list(chain.from_iterable(docslist))"
   ]
  },
  {
   "cell_type": "code",
   "execution_count": 34,
   "id": "00a234a3",
   "metadata": {},
   "outputs": [
    {
     "name": "stdout",
     "output_type": "stream",
     "text": [
      "['contact.txt', 'instruction.txt', 'user_info.txt']\n",
      "docslist [[Document(metadata={'source': 'c:\\\\Users\\\\DELL\\\\Desktop\\\\CloneFlow\\\\production\\\\user_settings\\\\contact.txt'}, page_content='This is a contact for Mammi. You can reach them at +919370300989.\\nThis is a contact for Papa. You can reach them at 982-380-4211.\\nThis is a contact for Pranav Dipak Khadse. You can reach them at +919960657036.\\nThis is a contact for Gorakh Kadam. You can reach them at +918605799757.\\nThis is a contact for Parth Mahajan. You can reach them at +919665735058.\\nThis is a contact for Simaya Travels. You can reach them at 744-778-1133.\\nThis is a contact for Jalindar Kadam. You can reach them at +917738252323.\\nThis is a contact for Rohan Shinde (Database Head- Abhivriddhi). You can reach them at 800-767-5714.\\nThis is a contact for Shreya Shelke (Design Head- Abhivriddhi). You can reach them at 928-460-0997.\\nThis is a contact for Parth Kunghatkar (Design Head- Abhivriddhi). You can reach them at 956-190-6218.\\nThis is a contact for Shreyas Chulliyan (Design Head- Abhivriddhi). You can reach them at 782-086-8371.\\nThis is a contact for Prajwal wakle (Photography Head- Abhivriddhi). You can reach them at 898-375-3430.\\nThis is a contact for Niraj Baviskar (Content Head- Abhivriddhi). You can reach them at 909-772-2122.\\nThis is a contact for Pranit Dugad (Sponsorship Head- Abhivriddhi). You can reach them at 755-863-2634.\\nThis is a contact for Prachit Dhurde (PR & SD Head- Abhivriddhi). You can reach them at 724-955-8065.\\nThis is a contact for Sanskruti Pimparkar (Social Media Head- Abhivriddhi). You can reach them at 766-617-3144.\\nThis is a contact for Rohan Sanap (CR Executive - Abhivriddhi). You can reach them at 876-789-7016.\\nThis is a contact for Saurabh Kadam (Branding Executive - Abhivriddhi). You can reach them at 989-013-5549.\\nThis is a contact for Kashish Chalikwar (Operations Coord - Abhivriddhi). You can reach them at 932-290-8481.\\nThis is a contact for Rishika Dash (Operations Coord - Abhivriddhi). You can reach them at 749-898-4496.\\nThis is a contact for Soham Kadam (Operations Coord - Abhivriddhi). You can reach them at 942-346-9810.\\nThis is a contact for Riya Somani (Database Coord - Abhivriddhi). You can reach them at 935-924-4435.\\nThis is a contact for Shreyans Jain (Finance Coord - Abhivriddhi). You can reach them at 888-841-3404.\\nThis is a contact for Kavya Bhand (IR Coord - Abhivriddhi). You can reach them at 963-708-0606.\\nThis is a contact for Shatakshi Shah (IR Coord - Abhivriddhi). You can reach them at 942-397-6136.\\nThis is a contact for Shreya Khatavkar (IR Coord - Abhivriddhi). You can reach them at 788-773-6630.\\nThis is a contact for Parth Thite (Spons Coord - Abhivriddhi). You can reach them at 866-822-9973.\\nThis is a contact for Pruthvi Gangapure (Spons Coord - Abhivriddhi). You can reach them at 767-636-2127.\\nThis is a contact for Saie patil (VE Coord - Abhivriddhi). You can reach them at 751-777-7999.\\nThis is a contact for Shriya Seikdar (Content Coord - Abhivriddhi). You can reach them at 898-337-9058.\\nThis is a contact for Nikita Gadekar (Content Coord - Abhivriddhi). You can reach them at 848-387-3176.\\nThis is a contact for Samarth Dhagate (Publicity Coord - Abhivriddhi). You can reach them at 902-189-7039.\\nThis is a contact for Palak Agarwal (Aesthetics Coord - Abhivriddhi). You can reach them at 703-848-5885.\\nThis is a contact for Ronit Dahiwal (PR & SD Coord - Abhivriddhi). You can reach them at 902-234-5818.\\nThis is a contact for Arya Kadam. You can reach them at +918779831758.\\nThis is a contact for Supriya Joshi. You can reach them at +919028147780.\\nThis is a contact for Prashik Sasane. You can reach them at +917498760502.\\nThis is a contact for Krishna Yamsalwar. You can reach them at +919579663004.\\nThis is a contact for Krishna Patil. You can reach them at +918261048075.\\nThis is a contact for Karan Class. You can reach them at +918638143283.\\nThis is a contact for pushkar katkade. You can reach them at +918668352910.\\nThis is a contact for Xerox. You can reach them at 937-019-1896.\\nThis is a contact for Xerox K. You can reach them at 937-026-8878.\\nThis is a contact for Simaya Travel. You can reach them at +919272235538.\\nThis is a contact for Anshul Kathote. You can reach them at +918956702628.\\nThis is a contact for Anannya Kadam. You can reach them at +918999633527.\\nThis is a contact for Sumits Kale. You can reach them at +918329906715.\\nThis is a contact for None. You can reach them at +918379084867.\\nThis is a contact for Parthmesh Lawate. You can reach them at +918999945033.\\nThis is a contact for Vaibhav Kaudge. You can reach them at +918669619026.\\nThis is a contact for None. You can reach them at +919970870091.\\nThis is a contact for Rahul Kadam. You can reach them at +918805574575.\\nThis is a contact for Kanifnath. You can reach them at +917218641975.\\nThis is a contact for Alok. You can reach them at +917219331840.\\nThis is a contact for Avdhut Dani. You can reach them at +917385247291.')], [], [Document(metadata={'source': 'c:\\\\Users\\\\DELL\\\\Desktop\\\\CloneFlow\\\\production\\\\user_settings\\\\user_info.txt'}, page_content='Partha Kadam, a seventeen-year-old living at 123 Main Street in Springfield, USA, can be reached at partha.kadam@example.com or 123-456-7890.')]]\n"
     ]
    },
    {
     "data": {
      "text/plain": [
       "[Document(metadata={'source': 'c:\\\\Users\\\\DELL\\\\Desktop\\\\CloneFlow\\\\production\\\\user_settings\\\\contact.txt'}, page_content='This is a contact for Mammi. You can reach them at +919370300989.\\nThis is a contact for Papa. You can reach them at 982-380-4211.\\nThis is a contact for Pranav Dipak Khadse. You can reach them at +919960657036.\\nThis is a contact for Gorakh Kadam. You can reach them at +918605799757.\\nThis is a contact for Parth Mahajan. You can reach them at +919665735058.\\nThis is a contact for Simaya Travels. You can reach them at 744-778-1133.\\nThis is a contact for Jalindar Kadam. You can reach them at +917738252323.\\nThis is a contact for Rohan Shinde (Database Head- Abhivriddhi). You can reach them at 800-767-5714.\\nThis is a contact for Shreya Shelke (Design Head- Abhivriddhi). You can reach them at 928-460-0997.\\nThis is a contact for Parth Kunghatkar (Design Head- Abhivriddhi). You can reach them at 956-190-6218.\\nThis is a contact for Shreyas Chulliyan (Design Head- Abhivriddhi). You can reach them at 782-086-8371.\\nThis is a contact for Prajwal wakle (Photography Head- Abhivriddhi). You can reach them at 898-375-3430.\\nThis is a contact for Niraj Baviskar (Content Head- Abhivriddhi). You can reach them at 909-772-2122.\\nThis is a contact for Pranit Dugad (Sponsorship Head- Abhivriddhi). You can reach them at 755-863-2634.\\nThis is a contact for Prachit Dhurde (PR & SD Head- Abhivriddhi). You can reach them at 724-955-8065.\\nThis is a contact for Sanskruti Pimparkar (Social Media Head- Abhivriddhi). You can reach them at 766-617-3144.\\nThis is a contact for Rohan Sanap (CR Executive - Abhivriddhi). You can reach them at 876-789-7016.\\nThis is a contact for Saurabh Kadam (Branding Executive - Abhivriddhi). You can reach them at 989-013-5549.\\nThis is a contact for Kashish Chalikwar (Operations Coord - Abhivriddhi). You can reach them at 932-290-8481.\\nThis is a contact for Rishika Dash (Operations Coord - Abhivriddhi). You can reach them at 749-898-4496.\\nThis is a contact for Soham Kadam (Operations Coord - Abhivriddhi). You can reach them at 942-346-9810.\\nThis is a contact for Riya Somani (Database Coord - Abhivriddhi). You can reach them at 935-924-4435.\\nThis is a contact for Shreyans Jain (Finance Coord - Abhivriddhi). You can reach them at 888-841-3404.\\nThis is a contact for Kavya Bhand (IR Coord - Abhivriddhi). You can reach them at 963-708-0606.\\nThis is a contact for Shatakshi Shah (IR Coord - Abhivriddhi). You can reach them at 942-397-6136.\\nThis is a contact for Shreya Khatavkar (IR Coord - Abhivriddhi). You can reach them at 788-773-6630.\\nThis is a contact for Parth Thite (Spons Coord - Abhivriddhi). You can reach them at 866-822-9973.\\nThis is a contact for Pruthvi Gangapure (Spons Coord - Abhivriddhi). You can reach them at 767-636-2127.\\nThis is a contact for Saie patil (VE Coord - Abhivriddhi). You can reach them at 751-777-7999.\\nThis is a contact for Shriya Seikdar (Content Coord - Abhivriddhi). You can reach them at 898-337-9058.\\nThis is a contact for Nikita Gadekar (Content Coord - Abhivriddhi). You can reach them at 848-387-3176.\\nThis is a contact for Samarth Dhagate (Publicity Coord - Abhivriddhi). You can reach them at 902-189-7039.\\nThis is a contact for Palak Agarwal (Aesthetics Coord - Abhivriddhi). You can reach them at 703-848-5885.\\nThis is a contact for Ronit Dahiwal (PR & SD Coord - Abhivriddhi). You can reach them at 902-234-5818.\\nThis is a contact for Arya Kadam. You can reach them at +918779831758.\\nThis is a contact for Supriya Joshi. You can reach them at +919028147780.\\nThis is a contact for Prashik Sasane. You can reach them at +917498760502.\\nThis is a contact for Krishna Yamsalwar. You can reach them at +919579663004.\\nThis is a contact for Krishna Patil. You can reach them at +918261048075.\\nThis is a contact for Karan Class. You can reach them at +918638143283.\\nThis is a contact for pushkar katkade. You can reach them at +918668352910.\\nThis is a contact for Xerox. You can reach them at 937-019-1896.\\nThis is a contact for Xerox K. You can reach them at 937-026-8878.\\nThis is a contact for Simaya Travel. You can reach them at +919272235538.\\nThis is a contact for Anshul Kathote. You can reach them at +918956702628.\\nThis is a contact for Anannya Kadam. You can reach them at +918999633527.\\nThis is a contact for Sumits Kale. You can reach them at +918329906715.\\nThis is a contact for None. You can reach them at +918379084867.\\nThis is a contact for Parthmesh Lawate. You can reach them at +918999945033.\\nThis is a contact for Vaibhav Kaudge. You can reach them at +918669619026.\\nThis is a contact for None. You can reach them at +919970870091.\\nThis is a contact for Rahul Kadam. You can reach them at +918805574575.\\nThis is a contact for Kanifnath. You can reach them at +917218641975.\\nThis is a contact for Alok. You can reach them at +917219331840.\\nThis is a contact for Avdhut Dani. You can reach them at +917385247291.'),\n",
       " Document(metadata={'source': 'c:\\\\Users\\\\DELL\\\\Desktop\\\\CloneFlow\\\\production\\\\user_settings\\\\user_info.txt'}, page_content='Partha Kadam, a seventeen-year-old living at 123 Main Street in Springfield, USA, can be reached at partha.kadam@example.com or 123-456-7890.')]"
      ]
     },
     "execution_count": 34,
     "metadata": {},
     "output_type": "execute_result"
    }
   ],
   "source": [
    "docs_list()"
   ]
  },
  {
   "cell_type": "code",
   "execution_count": 19,
   "id": "33961e14",
   "metadata": {},
   "outputs": [
    {
     "name": "stdout",
     "output_type": "stream",
     "text": [
      "c:\\Users\\DELL\\Desktop\\CloneFlow\\production\\user_settings\\contact.txt\n",
      "docs [Document(metadata={'source': 'c:\\\\Users\\\\DELL\\\\Desktop\\\\CloneFlow\\\\production\\\\user_settings\\\\contact.txt'}, page_content='This is a contact for Mammi. You can reach them at +919370300989.\\nThis is a contact for Papa. You can reach them at 982-380-4211.\\nThis is a contact for Pranav Dipak Khadse. You can reach them at +919960657036.\\nThis is a contact for Gorakh Kadam. You can reach them at +918605799757.\\nThis is a contact for Parth Mahajan. You can reach them at +919665735058.\\nThis is a contact for Simaya Travels. You can reach them at 744-778-1133.\\nThis is a contact for Jalindar Kadam. You can reach them at +917738252323.\\nThis is a contact for Rohan Shinde (Database Head- Abhivriddhi). You can reach them at 800-767-5714.\\nThis is a contact for Shreya Shelke (Design Head- Abhivriddhi). You can reach them at 928-460-0997.\\nThis is a contact for Parth Kunghatkar (Design Head- Abhivriddhi). You can reach them at 956-190-6218.\\nThis is a contact for Shreyas Chulliyan (Design Head- Abhivriddhi). You can reach them at 782-086-8371.\\nThis is a contact for Prajwal wakle (Photography Head- Abhivriddhi). You can reach them at 898-375-3430.\\nThis is a contact for Niraj Baviskar (Content Head- Abhivriddhi). You can reach them at 909-772-2122.\\nThis is a contact for Pranit Dugad (Sponsorship Head- Abhivriddhi). You can reach them at 755-863-2634.\\nThis is a contact for Prachit Dhurde (PR & SD Head- Abhivriddhi). You can reach them at 724-955-8065.\\nThis is a contact for Sanskruti Pimparkar (Social Media Head- Abhivriddhi). You can reach them at 766-617-3144.\\nThis is a contact for Rohan Sanap (CR Executive - Abhivriddhi). You can reach them at 876-789-7016.\\nThis is a contact for Saurabh Kadam (Branding Executive - Abhivriddhi). You can reach them at 989-013-5549.\\nThis is a contact for Kashish Chalikwar (Operations Coord - Abhivriddhi). You can reach them at 932-290-8481.\\nThis is a contact for Rishika Dash (Operations Coord - Abhivriddhi). You can reach them at 749-898-4496.\\nThis is a contact for Soham Kadam (Operations Coord - Abhivriddhi). You can reach them at 942-346-9810.\\nThis is a contact for Riya Somani (Database Coord - Abhivriddhi). You can reach them at 935-924-4435.\\nThis is a contact for Shreyans Jain (Finance Coord - Abhivriddhi). You can reach them at 888-841-3404.\\nThis is a contact for Kavya Bhand (IR Coord - Abhivriddhi). You can reach them at 963-708-0606.\\nThis is a contact for Shatakshi Shah (IR Coord - Abhivriddhi). You can reach them at 942-397-6136.\\nThis is a contact for Shreya Khatavkar (IR Coord - Abhivriddhi). You can reach them at 788-773-6630.\\nThis is a contact for Parth Thite (Spons Coord - Abhivriddhi). You can reach them at 866-822-9973.\\nThis is a contact for Pruthvi Gangapure (Spons Coord - Abhivriddhi). You can reach them at 767-636-2127.\\nThis is a contact for Saie patil (VE Coord - Abhivriddhi). You can reach them at 751-777-7999.\\nThis is a contact for Shriya Seikdar (Content Coord - Abhivriddhi). You can reach them at 898-337-9058.\\nThis is a contact for Nikita Gadekar (Content Coord - Abhivriddhi). You can reach them at 848-387-3176.\\nThis is a contact for Samarth Dhagate (Publicity Coord - Abhivriddhi). You can reach them at 902-189-7039.\\nThis is a contact for Palak Agarwal (Aesthetics Coord - Abhivriddhi). You can reach them at 703-848-5885.\\nThis is a contact for Ronit Dahiwal (PR & SD Coord - Abhivriddhi). You can reach them at 902-234-5818.\\nThis is a contact for Arya Kadam. You can reach them at +918779831758.\\nThis is a contact for Supriya Joshi. You can reach them at +919028147780.\\nThis is a contact for Prashik Sasane. You can reach them at +917498760502.\\nThis is a contact for Krishna Yamsalwar. You can reach them at +919579663004.\\nThis is a contact for Krishna Patil. You can reach them at +918261048075.\\nThis is a contact for Karan Class. You can reach them at +918638143283.\\nThis is a contact for pushkar katkade. You can reach them at +918668352910.\\nThis is a contact for Xerox. You can reach them at 937-019-1896.\\nThis is a contact for Xerox K. You can reach them at 937-026-8878.\\nThis is a contact for Simaya Travel. You can reach them at +919272235538.\\nThis is a contact for Anshul Kathote. You can reach them at +918956702628.\\nThis is a contact for Anannya Kadam. You can reach them at +918999633527.\\nThis is a contact for Sumits Kale. You can reach them at +918329906715.\\nThis is a contact for None. You can reach them at +918379084867.\\nThis is a contact for Parthmesh Lawate. You can reach them at +918999945033.\\nThis is a contact for Vaibhav Kaudge. You can reach them at +918669619026.\\nThis is a contact for None. You can reach them at +919970870091.\\nThis is a contact for Rahul Kadam. You can reach them at +918805574575.\\nThis is a contact for Kanifnath. You can reach them at +917218641975.\\nThis is a contact for Alok. You can reach them at +917219331840.\\nThis is a contact for Avdhut Dani. You can reach them at +917385247291.')]\n",
      "docs [Document(metadata={'source': 'c:\\\\Users\\\\DELL\\\\Desktop\\\\CloneFlow\\\\production\\\\user_settings\\\\contact.txt'}, page_content='This is a contact for Mammi. You can reach them at +919370300989.\\nThis is a contact for Papa. You can reach them at 982-380-4211.\\nThis is a contact for Pranav Dipak Khadse. You can reach them at +919960657036.\\nThis is a contact for Gorakh Kadam. You can reach them at +918605799757.\\nThis is a contact for Parth Mahajan. You can reach them at +919665735058.\\nThis is a contact for Simaya Travels. You can reach them at 744-778-1133.\\nThis is a contact for Jalindar Kadam. You can reach them at +917738252323.\\nThis is a contact for Rohan Shinde (Database Head- Abhivriddhi). You can reach them at 800-767-5714.\\nThis is a contact for Shreya Shelke (Design Head- Abhivriddhi). You can reach them at 928-460-0997.\\nThis is a contact for Parth Kunghatkar (Design Head- Abhivriddhi). You can reach them at 956-190-6218.\\nThis is a contact for Shreyas Chulliyan (Design Head- Abhivriddhi). You can reach them at 782-086-8371.\\nThis is a contact for Prajwal wakle (Photography Head- Abhivriddhi). You can reach them at 898-375-3430.\\nThis is a contact for Niraj Baviskar (Content Head- Abhivriddhi). You can reach them at 909-772-2122.\\nThis is a contact for Pranit Dugad (Sponsorship Head- Abhivriddhi). You can reach them at 755-863-2634.\\nThis is a contact for Prachit Dhurde (PR & SD Head- Abhivriddhi). You can reach them at 724-955-8065.\\nThis is a contact for Sanskruti Pimparkar (Social Media Head- Abhivriddhi). You can reach them at 766-617-3144.\\nThis is a contact for Rohan Sanap (CR Executive - Abhivriddhi). You can reach them at 876-789-7016.\\nThis is a contact for Saurabh Kadam (Branding Executive - Abhivriddhi). You can reach them at 989-013-5549.\\nThis is a contact for Kashish Chalikwar (Operations Coord - Abhivriddhi). You can reach them at 932-290-8481.\\nThis is a contact for Rishika Dash (Operations Coord - Abhivriddhi). You can reach them at 749-898-4496.\\nThis is a contact for Soham Kadam (Operations Coord - Abhivriddhi). You can reach them at 942-346-9810.\\nThis is a contact for Riya Somani (Database Coord - Abhivriddhi). You can reach them at 935-924-4435.\\nThis is a contact for Shreyans Jain (Finance Coord - Abhivriddhi). You can reach them at 888-841-3404.\\nThis is a contact for Kavya Bhand (IR Coord - Abhivriddhi). You can reach them at 963-708-0606.\\nThis is a contact for Shatakshi Shah (IR Coord - Abhivriddhi). You can reach them at 942-397-6136.\\nThis is a contact for Shreya Khatavkar (IR Coord - Abhivriddhi). You can reach them at 788-773-6630.\\nThis is a contact for Parth Thite (Spons Coord - Abhivriddhi). You can reach them at 866-822-9973.\\nThis is a contact for Pruthvi Gangapure (Spons Coord - Abhivriddhi). You can reach them at 767-636-2127.\\nThis is a contact for Saie patil (VE Coord - Abhivriddhi). You can reach them at 751-777-7999.\\nThis is a contact for Shriya Seikdar (Content Coord - Abhivriddhi). You can reach them at 898-337-9058.\\nThis is a contact for Nikita Gadekar (Content Coord - Abhivriddhi). You can reach them at 848-387-3176.\\nThis is a contact for Samarth Dhagate (Publicity Coord - Abhivriddhi). You can reach them at 902-189-7039.\\nThis is a contact for Palak Agarwal (Aesthetics Coord - Abhivriddhi). You can reach them at 703-848-5885.\\nThis is a contact for Ronit Dahiwal (PR & SD Coord - Abhivriddhi). You can reach them at 902-234-5818.\\nThis is a contact for Arya Kadam. You can reach them at +918779831758.\\nThis is a contact for Supriya Joshi. You can reach them at +919028147780.\\nThis is a contact for Prashik Sasane. You can reach them at +917498760502.\\nThis is a contact for Krishna Yamsalwar. You can reach them at +919579663004.\\nThis is a contact for Krishna Patil. You can reach them at +918261048075.\\nThis is a contact for Karan Class. You can reach them at +918638143283.\\nThis is a contact for pushkar katkade. You can reach them at +918668352910.\\nThis is a contact for Xerox. You can reach them at 937-019-1896.\\nThis is a contact for Xerox K. You can reach them at 937-026-8878.\\nThis is a contact for Simaya Travel. You can reach them at +919272235538.\\nThis is a contact for Anshul Kathote. You can reach them at +918956702628.\\nThis is a contact for Anannya Kadam. You can reach them at +918999633527.\\nThis is a contact for Sumits Kale. You can reach them at +918329906715.\\nThis is a contact for None. You can reach them at +918379084867.\\nThis is a contact for Parthmesh Lawate. You can reach them at +918999945033.\\nThis is a contact for Vaibhav Kaudge. You can reach them at +918669619026.\\nThis is a contact for None. You can reach them at +919970870091.\\nThis is a contact for Rahul Kadam. You can reach them at +918805574575.\\nThis is a contact for Kanifnath. You can reach them at +917218641975.\\nThis is a contact for Alok. You can reach them at +917219331840.\\nThis is a contact for Avdhut Dani. You can reach them at +917385247291.')]\n",
      "c:\\Users\\DELL\\Desktop\\CloneFlow\\production\\user_settings\\instruction.txt\n",
      "docs []\n",
      "c:\\Users\\DELL\\Desktop\\CloneFlow\\production\\user_settings\\user_info.txt\n",
      "docs [Document(metadata={'source': 'c:\\\\Users\\\\DELL\\\\Desktop\\\\CloneFlow\\\\production\\\\user_settings\\\\user_info.txt'}, page_content='Partha Kadam, a seventeen-year-old living at 123 Main Street in Springfield, USA, can be reached at partha.kadam@example.com or 123-456-7890.')]\n"
     ]
    }
   ],
   "source": [
    "vector_store= Chroma.from_documents(docs_list(), embeddings, persist_directory=str(persist_directory),ids=ids)"
   ]
  },
  {
   "cell_type": "code",
   "execution_count": 20,
   "id": "a4e9031f",
   "metadata": {},
   "outputs": [],
   "source": [
    "retriever=vector_store.as_retriever(\n",
    "    search_type=\"similarity_score_threshold\",\n",
    "    search_kwargs={\"k\": 3, \"score_threshold\": 0.1}, \n",
    ")"
   ]
  },
  {
   "cell_type": "code",
   "execution_count": 21,
   "id": "9811339b",
   "metadata": {},
   "outputs": [
    {
     "name": "stdout",
     "output_type": "stream",
     "text": [
      "[Document(id='f9d20cb2-9ba5-4c15-82c4-efcba0677b48', metadata={'source': 'c:\\\\Users\\\\DELL\\\\Desktop\\\\CloneFlow\\\\production\\\\uploads\\\\youtubeinfo.txt'}, page_content='Several YouTube channels have gained massive followings, with T-Series being the most-subscribed channel, followed by MrBeast, Cocomelon, and PewDiePie. The platform has also played a crucial role in launching the careers of content creators, musicians, and influencers.\\n\\nYouTube has faced multiple challenges over the years, including concerns about copyright infringement, misinformation, privacy issues, and content moderation. The company has implemented policies to combat harmful content, including demonetization of inappropriate videos, stricter copyright enforcement through Content ID, and improved moderation using AI and human reviewers.\\n\\nIn addition to its main platform, YouTube offers YouTube Music, a streaming service for music and music videos; YouTube TV, a live TV streaming service offering cable channels; and YouTube Premium, which provides an ad-free experience, offline downloads, and access to exclusive content.'), Document(id='54f3a039-d6a0-4cf2-b588-917883301990', metadata={'source': 'c:\\\\Users\\\\DELL\\\\Desktop\\\\CloneFlow\\\\production\\\\uploads\\\\youtubeinfo.txt'}, page_content='Key Features\\nVideo Uploads: Users can upload videos in various formats (MP4, MOV, AVI, etc.).\\nLive Streaming: YouTube supports real-time streaming.\\nMonetization: Through YouTube Partner Program (YPP), creators can earn money via ads, memberships, and Super Chats.\\nYouTube Shorts: A feature for short-form videos (15-60 seconds).\\nYouTube Premium: A subscription service offering ad-free viewing, offline downloads, and background play.\\nStatistics (as of 2024)\\nOver 2.7 billion monthly active users\\nMore than 500 hours of video uploaded every minute\\nAvailable in 100+ countries and 80+ languages\\nContent Categories\\nYouTube covers vlogs, gaming, music, education, tech reviews, tutorials, ASMR, news, etc. Popular YouTubers include MrBeast, PewDiePie, T-Series, and Markiplier.'), Document(id='41c18175-f050-4332-b67b-9abacfc1d675', metadata={'source': 'c:\\\\Users\\\\DELL\\\\Desktop\\\\CloneFlow\\\\production\\\\uploads\\\\youtubeinfo.txt'}, page_content='In November 2006, Google acquired YouTube for $1.65 billion in stock, integrating it into its ecosystem and expanding its advertising capabilities. Over the years, YouTube has introduced several features, such as high-definition video, live streaming, monetization programs, and YouTube Shorts, a short-form video format similar to TikTok.\\n\\nAs of 2024, YouTube has over 2.7 billion monthly active users, with more than 500 hours of video uploaded every minute. It supports content creators through the YouTube Partner Program (YPP), allowing them to earn money through ads, channel memberships, and Super Chats.\\n\\nYouTube is available in over 100 countries and supports more than 80 languages. It has become a major platform for influencers, businesses, educators, and entertainers. Popular YouTubers include MrBeast, PewDiePie, T-Series, and Markiplier.')]\n"
     ]
    }
   ],
   "source": [
    "relevant_docs = retriever.invoke(\"youtube\")\n",
    "print(relevant_docs)"
   ]
  },
  {
   "cell_type": "code",
   "execution_count": 22,
   "id": "63f3697c",
   "metadata": {},
   "outputs": [
    {
     "name": "stdout",
     "output_type": "stream",
     "text": [
      "[Document(id='39c3f35d-4d3f-472a-94d9-8160f8792523', metadata={'source': 'c:\\\\Users\\\\DELL\\\\Desktop\\\\CloneFlow\\\\production\\\\uploads\\\\dataBasePassword.txt'}, page_content='AI Email with Partha      J9wIP7bZWTCSg0L4'), Document(id='1', metadata={'source': 'c:\\\\Users\\\\DELL\\\\Desktop\\\\CloneFlow\\\\production\\\\user_settings\\\\user_info.txt'}, page_content='Partha Kadam, a seventeen-year-old living at 123 Main Street in Springfield, USA, can be reached at partha.kadam@example.com or 123-456-7890.'), Document(id='0', metadata={'source': 'c:\\\\Users\\\\DELL\\\\Desktop\\\\CloneFlow\\\\production\\\\user_settings\\\\contact.txt'}, page_content='This is a contact for Mammi. You can reach them at +919370300989.\\nThis is a contact for Papa. You can reach them at 982-380-4211.\\nThis is a contact for Pranav Dipak Khadse. You can reach them at +919960657036.\\nThis is a contact for Gorakh Kadam. You can reach them at +918605799757.\\nThis is a contact for Parth Mahajan. You can reach them at +919665735058.\\nThis is a contact for Simaya Travels. You can reach them at 744-778-1133.\\nThis is a contact for Jalindar Kadam. You can reach them at +917738252323.\\nThis is a contact for Rohan Shinde (Database Head- Abhivriddhi). You can reach them at 800-767-5714.\\nThis is a contact for Shreya Shelke (Design Head- Abhivriddhi). You can reach them at 928-460-0997.\\nThis is a contact for Parth Kunghatkar (Design Head- Abhivriddhi). You can reach them at 956-190-6218.\\nThis is a contact for Shreyas Chulliyan (Design Head- Abhivriddhi). You can reach them at 782-086-8371.\\nThis is a contact for Prajwal wakle (Photography Head- Abhivriddhi). You can reach them at 898-375-3430.\\nThis is a contact for Niraj Baviskar (Content Head- Abhivriddhi). You can reach them at 909-772-2122.\\nThis is a contact for Pranit Dugad (Sponsorship Head- Abhivriddhi). You can reach them at 755-863-2634.\\nThis is a contact for Prachit Dhurde (PR & SD Head- Abhivriddhi). You can reach them at 724-955-8065.\\nThis is a contact for Sanskruti Pimparkar (Social Media Head- Abhivriddhi). You can reach them at 766-617-3144.\\nThis is a contact for Rohan Sanap (CR Executive - Abhivriddhi). You can reach them at 876-789-7016.\\nThis is a contact for Saurabh Kadam (Branding Executive - Abhivriddhi). You can reach them at 989-013-5549.\\nThis is a contact for Kashish Chalikwar (Operations Coord - Abhivriddhi). You can reach them at 932-290-8481.\\nThis is a contact for Rishika Dash (Operations Coord - Abhivriddhi). You can reach them at 749-898-4496.\\nThis is a contact for Soham Kadam (Operations Coord - Abhivriddhi). You can reach them at 942-346-9810.\\nThis is a contact for Riya Somani (Database Coord - Abhivriddhi). You can reach them at 935-924-4435.\\nThis is a contact for Shreyans Jain (Finance Coord - Abhivriddhi). You can reach them at 888-841-3404.\\nThis is a contact for Kavya Bhand (IR Coord - Abhivriddhi). You can reach them at 963-708-0606.\\nThis is a contact for Shatakshi Shah (IR Coord - Abhivriddhi). You can reach them at 942-397-6136.\\nThis is a contact for Shreya Khatavkar (IR Coord - Abhivriddhi). You can reach them at 788-773-6630.\\nThis is a contact for Parth Thite (Spons Coord - Abhivriddhi). You can reach them at 866-822-9973.\\nThis is a contact for Pruthvi Gangapure (Spons Coord - Abhivriddhi). You can reach them at 767-636-2127.\\nThis is a contact for Saie patil (VE Coord - Abhivriddhi). You can reach them at 751-777-7999.\\nThis is a contact for Shriya Seikdar (Content Coord - Abhivriddhi). You can reach them at 898-337-9058.\\nThis is a contact for Nikita Gadekar (Content Coord - Abhivriddhi). You can reach them at 848-387-3176.\\nThis is a contact for Samarth Dhagate (Publicity Coord - Abhivriddhi). You can reach them at 902-189-7039.\\nThis is a contact for Palak Agarwal (Aesthetics Coord - Abhivriddhi). You can reach them at 703-848-5885.\\nThis is a contact for Ronit Dahiwal (PR & SD Coord - Abhivriddhi). You can reach them at 902-234-5818.\\nThis is a contact for Arya Kadam. You can reach them at +918779831758.\\nThis is a contact for Supriya Joshi. You can reach them at +919028147780.\\nThis is a contact for Prashik Sasane. You can reach them at +917498760502.\\nThis is a contact for Krishna Yamsalwar. You can reach them at +919579663004.\\nThis is a contact for Krishna Patil. You can reach them at +918261048075.\\nThis is a contact for Karan Class. You can reach them at +918638143283.\\nThis is a contact for pushkar katkade. You can reach them at +918668352910.\\nThis is a contact for Xerox. You can reach them at 937-019-1896.\\nThis is a contact for Xerox K. You can reach them at 937-026-8878.\\nThis is a contact for Simaya Travel. You can reach them at +919272235538.\\nThis is a contact for Anshul Kathote. You can reach them at +918956702628.\\nThis is a contact for Anannya Kadam. You can reach them at +918999633527.\\nThis is a contact for Sumits Kale. You can reach them at +918329906715.\\nThis is a contact for None. You can reach them at +918379084867.\\nThis is a contact for Parthmesh Lawate. You can reach them at +918999945033.\\nThis is a contact for Vaibhav Kaudge. You can reach them at +918669619026.\\nThis is a contact for None. You can reach them at +919970870091.\\nThis is a contact for Rahul Kadam. You can reach them at +918805574575.\\nThis is a contact for Kanifnath. You can reach them at +917218641975.\\nThis is a contact for Alok. You can reach them at +917219331840.\\nThis is a contact for Avdhut Dani. You can reach them at +917385247291.')]\n"
     ]
    }
   ],
   "source": [
    "relevant_docs = retriever.invoke(\n",
    "    '''partha'''\n",
    ")\n",
    "print(relevant_docs)"
   ]
  },
  {
   "cell_type": "code",
   "execution_count": 23,
   "id": "d9769e07",
   "metadata": {},
   "outputs": [
    {
     "name": "stdout",
     "output_type": "stream",
     "text": [
      "\n",
      "--- Relevant Documents ---\n",
      "Document 1:\n",
      "AI Email with Partha      J9wIP7bZWTCSg0L4\n",
      "\n",
      "Source: c:\\Users\\DELL\\Desktop\\CloneFlow\\production\\uploads\\dataBasePassword.txt\n",
      "\n",
      "Document 2:\n",
      "Partha Kadam, a seventeen-year-old living at 123 Main Street in Springfield, USA, can be reached at partha.kadam@example.com or 123-456-7890.\n",
      "\n",
      "Source: c:\\Users\\DELL\\Desktop\\CloneFlow\\production\\user_settings\\user_info.txt\n",
      "\n",
      "Document 3:\n",
      "This is a contact for Mammi. You can reach them at +919370300989.\n",
      "This is a contact for Papa. You can reach them at 982-380-4211.\n",
      "This is a contact for Pranav Dipak Khadse. You can reach them at +919960657036.\n",
      "This is a contact for Gorakh Kadam. You can reach them at +918605799757.\n",
      "This is a contact for Parth Mahajan. You can reach them at +919665735058.\n",
      "This is a contact for Simaya Travels. You can reach them at 744-778-1133.\n",
      "This is a contact for Jalindar Kadam. You can reach them at +917738252323.\n",
      "This is a contact for Rohan Shinde (Database Head- Abhivriddhi). You can reach them at 800-767-5714.\n",
      "This is a contact for Shreya Shelke (Design Head- Abhivriddhi). You can reach them at 928-460-0997.\n",
      "This is a contact for Parth Kunghatkar (Design Head- Abhivriddhi). You can reach them at 956-190-6218.\n",
      "This is a contact for Shreyas Chulliyan (Design Head- Abhivriddhi). You can reach them at 782-086-8371.\n",
      "This is a contact for Prajwal wakle (Photography Head- Abhivriddhi). You can reach them at 898-375-3430.\n",
      "This is a contact for Niraj Baviskar (Content Head- Abhivriddhi). You can reach them at 909-772-2122.\n",
      "This is a contact for Pranit Dugad (Sponsorship Head- Abhivriddhi). You can reach them at 755-863-2634.\n",
      "This is a contact for Prachit Dhurde (PR & SD Head- Abhivriddhi). You can reach them at 724-955-8065.\n",
      "This is a contact for Sanskruti Pimparkar (Social Media Head- Abhivriddhi). You can reach them at 766-617-3144.\n",
      "This is a contact for Rohan Sanap (CR Executive - Abhivriddhi). You can reach them at 876-789-7016.\n",
      "This is a contact for Saurabh Kadam (Branding Executive - Abhivriddhi). You can reach them at 989-013-5549.\n",
      "This is a contact for Kashish Chalikwar (Operations Coord - Abhivriddhi). You can reach them at 932-290-8481.\n",
      "This is a contact for Rishika Dash (Operations Coord - Abhivriddhi). You can reach them at 749-898-4496.\n",
      "This is a contact for Soham Kadam (Operations Coord - Abhivriddhi). You can reach them at 942-346-9810.\n",
      "This is a contact for Riya Somani (Database Coord - Abhivriddhi). You can reach them at 935-924-4435.\n",
      "This is a contact for Shreyans Jain (Finance Coord - Abhivriddhi). You can reach them at 888-841-3404.\n",
      "This is a contact for Kavya Bhand (IR Coord - Abhivriddhi). You can reach them at 963-708-0606.\n",
      "This is a contact for Shatakshi Shah (IR Coord - Abhivriddhi). You can reach them at 942-397-6136.\n",
      "This is a contact for Shreya Khatavkar (IR Coord - Abhivriddhi). You can reach them at 788-773-6630.\n",
      "This is a contact for Parth Thite (Spons Coord - Abhivriddhi). You can reach them at 866-822-9973.\n",
      "This is a contact for Pruthvi Gangapure (Spons Coord - Abhivriddhi). You can reach them at 767-636-2127.\n",
      "This is a contact for Saie patil (VE Coord - Abhivriddhi). You can reach them at 751-777-7999.\n",
      "This is a contact for Shriya Seikdar (Content Coord - Abhivriddhi). You can reach them at 898-337-9058.\n",
      "This is a contact for Nikita Gadekar (Content Coord - Abhivriddhi). You can reach them at 848-387-3176.\n",
      "This is a contact for Samarth Dhagate (Publicity Coord - Abhivriddhi). You can reach them at 902-189-7039.\n",
      "This is a contact for Palak Agarwal (Aesthetics Coord - Abhivriddhi). You can reach them at 703-848-5885.\n",
      "This is a contact for Ronit Dahiwal (PR & SD Coord - Abhivriddhi). You can reach them at 902-234-5818.\n",
      "This is a contact for Arya Kadam. You can reach them at +918779831758.\n",
      "This is a contact for Supriya Joshi. You can reach them at +919028147780.\n",
      "This is a contact for Prashik Sasane. You can reach them at +917498760502.\n",
      "This is a contact for Krishna Yamsalwar. You can reach them at +919579663004.\n",
      "This is a contact for Krishna Patil. You can reach them at +918261048075.\n",
      "This is a contact for Karan Class. You can reach them at +918638143283.\n",
      "This is a contact for pushkar katkade. You can reach them at +918668352910.\n",
      "This is a contact for Xerox. You can reach them at 937-019-1896.\n",
      "This is a contact for Xerox K. You can reach them at 937-026-8878.\n",
      "This is a contact for Simaya Travel. You can reach them at +919272235538.\n",
      "This is a contact for Anshul Kathote. You can reach them at +918956702628.\n",
      "This is a contact for Anannya Kadam. You can reach them at +918999633527.\n",
      "This is a contact for Sumits Kale. You can reach them at +918329906715.\n",
      "This is a contact for None. You can reach them at +918379084867.\n",
      "This is a contact for Parthmesh Lawate. You can reach them at +918999945033.\n",
      "This is a contact for Vaibhav Kaudge. You can reach them at +918669619026.\n",
      "This is a contact for None. You can reach them at +919970870091.\n",
      "This is a contact for Rahul Kadam. You can reach them at +918805574575.\n",
      "This is a contact for Kanifnath. You can reach them at +917218641975.\n",
      "This is a contact for Alok. You can reach them at +917219331840.\n",
      "This is a contact for Avdhut Dani. You can reach them at +917385247291.\n",
      "\n",
      "Source: c:\\Users\\DELL\\Desktop\\CloneFlow\\production\\user_settings\\contact.txt\n",
      "\n"
     ]
    }
   ],
   "source": [
    "print(\"\\n--- Relevant Documents ---\")\n",
    "for i, doc in enumerate(relevant_docs, 1):\n",
    "    print(f\"Document {i}:\\n{doc.page_content}\\n\")\n",
    "    if doc.metadata:\n",
    "        print(f\"Source: {doc.metadata.get('source', 'Unknown')}\\n\")"
   ]
  },
  {
   "cell_type": "code",
   "execution_count": null,
   "id": "acf6ec29",
   "metadata": {},
   "outputs": [],
   "source": [
    "# vector_store.delete(ids=\"36ce41ef-f62a-480f-8c5d-f6faa1bb48fe\")\n"
   ]
  }
 ],
 "metadata": {
  "kernelspec": {
   "display_name": ".venv",
   "language": "python",
   "name": "python3"
  },
  "language_info": {
   "codemirror_mode": {
    "name": "ipython",
    "version": 3
   },
   "file_extension": ".py",
   "mimetype": "text/x-python",
   "name": "python",
   "nbconvert_exporter": "python",
   "pygments_lexer": "ipython3",
   "version": "3.11.0"
  }
 },
 "nbformat": 4,
 "nbformat_minor": 5
}
