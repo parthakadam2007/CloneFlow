{
 "cells": [
  {
   "cell_type": "code",
   "execution_count": 25,
   "id": "c717af77",
   "metadata": {},
   "outputs": [],
   "source": [
    "from dotenv import load_dotenv\n",
    "load_dotenv()\n",
    "from langchain_google_genai import ChatGoogleGenerativeAI    \n",
    "from pathlib import Path  "
   ]
  },
  {
   "cell_type": "code",
   "execution_count": 26,
   "id": "7fb9bd39",
   "metadata": {},
   "outputs": [],
   "source": [
    "import json\n",
    "import re"
   ]
  },
  {
   "cell_type": "code",
   "execution_count": 27,
   "id": "efc09eb5",
   "metadata": {},
   "outputs": [],
   "source": [
    "current_dir =Path.cwd() \n",
    "persist_directory = current_dir /'db'/ 'main_db'\n",
    "persist_directory=str(persist_directory)"
   ]
  },
  {
   "cell_type": "code",
   "execution_count": 28,
   "id": "26b8d27a",
   "metadata": {},
   "outputs": [],
   "source": [
    "llm = ChatGoogleGenerativeAI(\n",
    "    model=\"gemini-1.5-flash\",\n",
    "    temperature=0,\n",
    "    max_tokens=None,\n",
    "    timeout=None,\n",
    "    max_retries=2,\n",
    "    # other params...\n",
    ")"
   ]
  },
  {
   "cell_type": "code",
   "execution_count": null,
   "id": "a46b698e",
   "metadata": {},
   "outputs": [],
   "source": [
    "from langchain_google_vertexai import VertexAIEmbeddings\n",
    "embeddings = VertexAIEmbeddings(model=\"text-embedding-004\")"
   ]
  },
  {
   "cell_type": "code",
   "execution_count": 30,
   "id": "ad6dfc90",
   "metadata": {},
   "outputs": [],
   "source": [
    "from langchain_chroma import Chroma\n",
    "vector_store= Chroma(persist_directory=persist_directory,\n",
    "            embedding_function=embeddings)"
   ]
  },
  {
   "cell_type": "code",
   "execution_count": 31,
   "id": "94c1c735",
   "metadata": {},
   "outputs": [],
   "source": [
    "retriever = vector_store.as_retriever(\n",
    "    search_type=\"similarity_score_threshold\",\n",
    "    search_kwargs={\"k\": 3, \"score_threshold\": 0.1}, \n",
    ")"
   ]
  },
  {
   "cell_type": "code",
   "execution_count": 32,
   "id": "68776cf2",
   "metadata": {},
   "outputs": [],
   "source": [
    "from langchain_core.tools import tool"
   ]
  },
  {
   "cell_type": "code",
   "execution_count": 33,
   "id": "78956680",
   "metadata": {},
   "outputs": [],
   "source": [
    "# langraph application\n",
    "from langchain_core.prompts import ChatPromptTemplate\n",
    "# from langchain_core.pydantic_v1 import Field\n",
    "from pydantic import BaseModel, Field\n",
    "from typing import Literal"
   ]
  },
  {
   "cell_type": "code",
   "execution_count": 34,
   "id": "9c7710c9",
   "metadata": {},
   "outputs": [],
   "source": [
    "\n",
    "from typing import List\n",
    "from typing_extensions import TypedDict"
   ]
  },
  {
   "cell_type": "code",
   "execution_count": 35,
   "id": "66ac6aa6",
   "metadata": {},
   "outputs": [],
   "source": [
    "class GraphState(TypedDict):\n",
    "    \"\"\"\n",
    "    Rrepresent the state of the graph.\n",
    "    \n",
    "    Attributes:\n",
    "    \n",
    "    \n",
    "    \"\"\"\n",
    "    input :str\n",
    "    all_documents: List[str]\n",
    "    query_list:List[str]\n",
    "    output:str\n",
    "    extraction:List[dict]    \n",
    "    \n",
    "    "
   ]
  },
  {
   "cell_type": "code",
   "execution_count": 36,
   "id": "b9c8591d",
   "metadata": {},
   "outputs": [],
   "source": [
    "def  generating_qureys(state:GraphState):\n",
    "    \"\"\"\n",
    "    Generate qureys on a text to get more information\n",
    "    \"\"\"\n",
    "    print(\"---generating_qureys---\")\n",
    "    large_query= state[\"input\"]\n",
    "    \n",
    "    query_list = llm.invoke(f\"You task is to return a json object in format of [query1,query2...],dont give any other  than json string not also any type of text other than the json string,query1 ,query2 are the querys which are generated such that will use to get more information from the RAG.example:send mailto.Database contain the information on people context any many techical documents text:{large_query}\")\n",
    "    raw_output = query_list.content\n",
    "\n",
    "# Optional: remove prefix like \"json\" or anything before the actual JSON array\n",
    "    match = re.search(r'\\[.*\\]', raw_output, re.DOTALL)\n",
    "    queries = []\n",
    "    if match:\n",
    "     cleaned_json_str = match.group(0)\n",
    "     queries = json.loads(cleaned_json_str)\n",
    "     print(queries)\n",
    "    else:\n",
    "     print(\"No valid JSON array found in the output.\")\n",
    "\n",
    "    print(\"queries\",queries)\n",
    "    state['query_list']=queries\n",
    "    \n",
    "    return state\n",
    "    "
   ]
  },
  {
   "cell_type": "code",
   "execution_count": 37,
   "id": "cc3736e3",
   "metadata": {},
   "outputs": [],
   "source": [
    "def multi_query_retrival(state:GraphState):\n",
    "    \"\"\"\n",
    "    Retrive relavent document from the RAG from multiple querys\n",
    "    \"\"\"\n",
    "    print(\"---multi_query_retrival---\")\n",
    "    query_list=state[\"query_list\"]\n",
    "    all_documents=[]\n",
    "    \n",
    "    for x in query_list:\n",
    "        documents = retriever.invoke(x)\n",
    "        all_documents.append(documents)\n",
    "    print(\"all_documnets\",all_documents)\n",
    "    state[\"all_documents\"] = all_documents\n",
    "    return state"
   ]
  },
  {
   "cell_type": "code",
   "execution_count": 38,
   "id": "d6cd34af",
   "metadata": {},
   "outputs": [],
   "source": [
    "def generator(state:GraphState):\n",
    "    '''\n",
    "    generate a final output combininig retrive documents and the retrive documnets\n",
    "    '''\n",
    "    print(\"---generator---\")\n",
    "    input= state[\"input\"]\n",
    "    all_documents = state[\"all_documents\"]\n",
    "    \n",
    "    \n",
    "    result = llm.invoke(f\"your task is to add details into the original text,Do not mention were you got the information formDo not mention were you got the information form.only provide details about the things menstioned,text{input},context:{all_documents}\")\n",
    "    output = result.content\n",
    "    print(\"output\",output)\n",
    "    state[\"output\"]=output\n",
    "    \n",
    "    return state\n",
    "    "
   ]
  },
  {
   "cell_type": "code",
   "execution_count": 39,
   "id": "dbfea78c",
   "metadata": {},
   "outputs": [],
   "source": [
    "def extractor(state:GraphState):\n",
    "    \"\"\"\n",
    "    Extract the information from the text in json format\n",
    "    \"\"\"\n",
    "    print(\"---extractor---\")\n",
    "    output= state[\"output\"]\n",
    "    print(\"output\",output)\n",
    "    promt = 'You are an email information extractor, will be given a text, you have to extract the information in format: [{\"email\":\"examplename@exaple.com\",\"body\":\"body of mail\",\"subject\":\"subject of the mail\"},{\"email\":\"examplename@exaple.com\",\"body\":\"body of mail\",\"subject\":\"subject of the mail\"}],do not give nay other thing other than the json string,if not found any email in the text, return json[{\"nothing found\":\"no email found\"}],text'\n",
    "    result = llm.invoke(f\"{promt}, text{output}\")\n",
    "    output = result.content\n",
    "    raw_output = output \n",
    "    print(\"raw_output\",raw_output)\n",
    "\n",
    "# Optional: remove prefix like \"json\" or anything before the actual JSON array\n",
    "    match = re.search(r'\\[.*\\]', raw_output, re.DOTALL)\n",
    "    queries = []\n",
    "    if match:\n",
    "     cleaned_json_str = match.group(0)\n",
    "     queries = json.loads(cleaned_json_str)\n",
    "     print(\"--->\",queries)\n",
    "    else:\n",
    "     print(\"No valid JSON array found in the output.\")\n",
    "\n",
    "    print(\"extraction\",queries)\n",
    "    state['extraction']=queries\n",
    "    \n",
    "    return state"
   ]
  },
  {
   "cell_type": "code",
   "execution_count": 40,
   "id": "eebbabd1",
   "metadata": {},
   "outputs": [],
   "source": [
    "# creating flow\n",
    "\n",
    "from langgraph.graph import END, StateGraph, START"
   ]
  },
  {
   "cell_type": "code",
   "execution_count": 41,
   "id": "1bcd66d3",
   "metadata": {},
   "outputs": [],
   "source": [
    "workflow = StateGraph(GraphState)"
   ]
  },
  {
   "cell_type": "code",
   "execution_count": 42,
   "id": "23428648",
   "metadata": {},
   "outputs": [
    {
     "data": {
      "text/plain": [
       "<langgraph.graph.state.StateGraph at 0x167ffeb1dd0>"
      ]
     },
     "execution_count": 42,
     "metadata": {},
     "output_type": "execute_result"
    }
   ],
   "source": [
    "workflow.add_node(\"generating_qureys\",generating_qureys)\n",
    "workflow.add_node(\"multi_query_retrival\",multi_query_retrival)\n",
    "workflow.add_node(\"generator\",generator)\n",
    "workflow.add_node(\"extractor\",extractor)"
   ]
  },
  {
   "cell_type": "code",
   "execution_count": 43,
   "id": "30da15be",
   "metadata": {},
   "outputs": [
    {
     "data": {
      "text/plain": [
       "<langgraph.graph.state.StateGraph at 0x167ffeb1dd0>"
      ]
     },
     "execution_count": 43,
     "metadata": {},
     "output_type": "execute_result"
    }
   ],
   "source": [
    "workflow.add_edge(START,\"generating_qureys\")\n",
    "workflow.add_edge(\"generating_qureys\",\"multi_query_retrival\")\n",
    "workflow.add_edge(\"multi_query_retrival\",\"generator\")\n",
    "workflow.add_edge(\"generator\",\"extractor\")\n",
    "workflow.add_edge(\"extractor\",END)"
   ]
  },
  {
   "cell_type": "code",
   "execution_count": 44,
   "id": "7dc9ee8a",
   "metadata": {},
   "outputs": [],
   "source": [
    "# Compile\n",
    "app = workflow.compile()"
   ]
  },
  {
   "cell_type": "code",
   "execution_count": 45,
   "id": "ea6a8306",
   "metadata": {},
   "outputs": [],
   "source": [
    "from pprint import pprint"
   ]
  },
  {
   "cell_type": "code",
   "execution_count": 46,
   "id": "69f0cc7e",
   "metadata": {},
   "outputs": [
    {
     "name": "stdout",
     "output_type": "stream",
     "text": [
      "---generating_qureys---\n",
      "[\"what is partha kadam's email address?\", 'find the email address for partha kadam']\n",
      "queries [\"what is partha kadam's email address?\", 'find the email address for partha kadam']\n",
      "\"Node 'generating_qureys':\"\n",
      "'\\n---\\n'\n",
      "---multi_query_retrival---\n",
      "all_documnets [[Document(id='1', metadata={'source': 'c:\\\\Users\\\\DELL\\\\Desktop\\\\CloneFlow\\\\production\\\\user_settings\\\\user_info.txt'}, page_content='Partha Kadam, a seventeen-year-old living at 123 Main Street in Springfield, USA, can be reached at partha.kadam@example.com or 123-456-7890.'), Document(id='aea8993e-4d96-4224-b027-d954f301b0fc', metadata={'source': 'c:\\\\Users\\\\DELL\\\\Desktop\\\\CloneFlow\\\\production\\\\uploads\\\\dataBasePassword.txt'}, page_content='AI Email with Partha      J9wIP7bZWTCSg0L4'), Document(id='d88748d6-fc4c-4ff9-8fed-543653f13fdb', metadata={'source': 'c:\\\\Users\\\\DELL\\\\Desktop\\\\CloneFlow\\\\production\\\\uploads\\\\dataBasePassword.txt'}, page_content='AI Email with Partha      J9wIP7bZWTCSg0L4')], [Document(id='1', metadata={'source': 'c:\\\\Users\\\\DELL\\\\Desktop\\\\CloneFlow\\\\production\\\\user_settings\\\\user_info.txt'}, page_content='Partha Kadam, a seventeen-year-old living at 123 Main Street in Springfield, USA, can be reached at partha.kadam@example.com or 123-456-7890.'), Document(id='aea8993e-4d96-4224-b027-d954f301b0fc', metadata={'source': 'c:\\\\Users\\\\DELL\\\\Desktop\\\\CloneFlow\\\\production\\\\uploads\\\\dataBasePassword.txt'}, page_content='AI Email with Partha      J9wIP7bZWTCSg0L4'), Document(id='d88748d6-fc4c-4ff9-8fed-543653f13fdb', metadata={'source': 'c:\\\\Users\\\\DELL\\\\Desktop\\\\CloneFlow\\\\production\\\\uploads\\\\dataBasePassword.txt'}, page_content='AI Email with Partha      J9wIP7bZWTCSg0L4')]]\n",
      "\"Node 'multi_query_retrival':\"\n",
      "'\\n---\\n'\n",
      "---generator---\n",
      "output Hello guys,\n",
      "\n",
      "Thank you for joining the meeting.\n",
      "\n",
      "I just wanted to request that you send a birthday email to Partha Kadam.  While his email address is listed as parthakadam2007@gmail.com,  another email address on file is partha.kadam@example.com.  Please use whichever address you can reach him at.  Partha is seventeen years old and lives at 123 Main Street in Springfield, USA.  His phone number is 123-456-7890, though this is likely less reliable for contacting him than email.  Please make sure your email wishes him a happy birthday.\n",
      "\"Node 'generator':\"\n",
      "'\\n---\\n'\n",
      "---extractor---\n",
      "output Hello guys,\n",
      "\n",
      "Thank you for joining the meeting.\n",
      "\n",
      "I just wanted to request that you send a birthday email to Partha Kadam.  While his email address is listed as parthakadam2007@gmail.com,  another email address on file is partha.kadam@example.com.  Please use whichever address you can reach him at.  Partha is seventeen years old and lives at 123 Main Street in Springfield, USA.  His phone number is 123-456-7890, though this is likely less reliable for contacting him than email.  Please make sure your email wishes him a happy birthday.\n",
      "raw_output ```json\n",
      "[{\"email\": \"parthakadam2007@gmail.com\", \"body\": \"Please make sure your email wishes him a happy birthday.\", \"subject\": \"Birthday email for Partha Kadam\"}, {\"email\": \"partha.kadam@example.com\", \"body\": \"Please make sure your email wishes him a happy birthday.\", \"subject\": \"Birthday email for Partha Kadam\"}]\n",
      "```\n",
      "---> [{'email': 'parthakadam2007@gmail.com', 'body': 'Please make sure your email wishes him a happy birthday.', 'subject': 'Birthday email for Partha Kadam'}, {'email': 'partha.kadam@example.com', 'body': 'Please make sure your email wishes him a happy birthday.', 'subject': 'Birthday email for Partha Kadam'}]\n",
      "extraction [{'email': 'parthakadam2007@gmail.com', 'body': 'Please make sure your email wishes him a happy birthday.', 'subject': 'Birthday email for Partha Kadam'}, {'email': 'partha.kadam@example.com', 'body': 'Please make sure your email wishes him a happy birthday.', 'subject': 'Birthday email for Partha Kadam'}]\n",
      "\"Node 'extractor':\"\n",
      "'\\n---\\n'\n",
      "'No final assistant message found.'\n"
     ]
    }
   ],
   "source": [
    "\n",
    "# Run\n",
    "all_states=[]\n",
    "\n",
    "stkd='''\n",
    "hello guys,\n",
    "thankyou for jointing the meeting.\n",
    "i just what to tell to send mail to partha kadam whose email id is parthakadam2007@gmail.com wishing him happy birthday.\n",
    "'''\n",
    "\n",
    "inputs = {\"input\": stkd}\n",
    "final_message = None  # Keep track of final generation manually\n",
    "\n",
    "for output in app.stream(inputs):\n",
    "    for key, value in output.items():\n",
    "        pprint(f\"Node '{key}':\")\n",
    "        \n",
    "        # If this is the generation node and has messages\n",
    "        if isinstance(value, dict) and \"messages\" in value:\n",
    "            final_message = value[\"messages\"][-1].content\n",
    "    all_states.append(value)\n",
    "    pprint(\"\\n---\\n\")\n",
    "    \n",
    "\n",
    "# Print final message if available\n",
    "if final_message:\n",
    "    pprint(\"Assistant: \" + final_message)\n",
    "else:\n",
    "    pprint(\"No final assistant message found.\")"
   ]
  },
  {
   "cell_type": "code",
   "execution_count": 47,
   "id": "020064ae",
   "metadata": {},
   "outputs": [
    {
     "data": {
      "text/plain": [
       "[{'email': 'parthakadam2007@gmail.com',\n",
       "  'body': 'Please make sure your email wishes him a happy birthday.',\n",
       "  'subject': 'Birthday email for Partha Kadam'},\n",
       " {'email': 'partha.kadam@example.com',\n",
       "  'body': 'Please make sure your email wishes him a happy birthday.',\n",
       "  'subject': 'Birthday email for Partha Kadam'}]"
      ]
     },
     "execution_count": 47,
     "metadata": {},
     "output_type": "execute_result"
    }
   ],
   "source": [
    "all_states[-1]['extraction'] "
   ]
  },
  {
   "cell_type": "code",
   "execution_count": 48,
   "id": "301ea54d",
   "metadata": {},
   "outputs": [
    {
     "data": {
      "text/plain": [
       "'Hello guys,\\n\\nThank you for joining the meeting.\\n\\nI just wanted to request that you send a birthday email to Partha Kadam.  While his email address is listed as parthakadam2007@gmail.com,  another email address on file is partha.kadam@example.com.  Please use whichever address you can reach him at.  Partha is seventeen years old and lives at 123 Main Street in Springfield, USA.  His phone number is 123-456-7890, though this is likely less reliable for contacting him than email.  Please make sure your email wishes him a happy birthday.'"
      ]
     },
     "execution_count": 48,
     "metadata": {},
     "output_type": "execute_result"
    }
   ],
   "source": [
    "all_states[2][\"output\"]"
   ]
  }
 ],
 "metadata": {
  "kernelspec": {
   "display_name": ".venv",
   "language": "python",
   "name": "python3"
  },
  "language_info": {
   "codemirror_mode": {
    "name": "ipython",
    "version": 3
   },
   "file_extension": ".py",
   "mimetype": "text/x-python",
   "name": "python",
   "nbconvert_exporter": "python",
   "pygments_lexer": "ipython3",
   "version": "3.11.0"
  }
 },
 "nbformat": 4,
 "nbformat_minor": 5
}
