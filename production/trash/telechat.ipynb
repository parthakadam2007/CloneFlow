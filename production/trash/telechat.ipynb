{
 "cells": [
  {
   "cell_type": "code",
   "execution_count": 6,
   "id": "a6a4f26e",
   "metadata": {},
   "outputs": [],
   "source": [
    "\n",
    "from dotenv import load_dotenv\n",
    "load_dotenv()\n",
    "from pydantic import BaseModel, Field\n",
    "from langchain_google_genai import ChatGoogleGenerativeAI      \n",
    "\n",
    "from langgraph.checkpoint.memory import MemorySaver\n",
    "from langchain_chroma import Chroma\n",
    "from langchain_google_vertexai import VertexAIEmbeddings\n",
    "import os\n",
    "from pathlib import Path  \n"
   ]
  },
  {
   "cell_type": "code",
   "execution_count": 7,
   "id": "9a6852db",
   "metadata": {},
   "outputs": [
    {
     "name": "stdout",
     "output_type": "stream",
     "text": [
      "db loaded\n"
     ]
    }
   ],
   "source": [
    "current_dir =Path.cwd() \n",
    "persist_directory = current_dir /'db'/ 'main_db'\n",
    "persist_directory=str(persist_directory)\n",
    "\n",
    "embeddings = VertexAIEmbeddings(model=\"text-embedding-004\")\n",
    "\n",
    "db = Chroma(persist_directory=persist_directory,\n",
    "            embedding_function=embeddings)\n",
    "\n",
    "print('db loaded')\n"
   ]
  },
  {
   "cell_type": "code",
   "execution_count": 8,
   "id": "f9922a11",
   "metadata": {},
   "outputs": [
    {
     "ename": "NameError",
     "evalue": "name '__file__' is not defined",
     "output_type": "error",
     "traceback": [
      "\u001b[31m---------------------------------------------------------------------------\u001b[39m",
      "\u001b[31mNameError\u001b[39m                                 Traceback (most recent call last)",
      "\u001b[36mCell\u001b[39m\u001b[36m \u001b[39m\u001b[32mIn[8]\u001b[39m\u001b[32m, line 1\u001b[39m\n\u001b[32m----> \u001b[39m\u001b[32m1\u001b[39m current_dir = os.path.dirname(os.path.realpath(\u001b[34;43m__file__\u001b[39;49m))\n\u001b[32m      2\u001b[39m file_path = os.path.join(current_dir, \u001b[33m\"\u001b[39m\u001b[33myoutubeinfo.txt\u001b[39m\u001b[33m\"\u001b[39m)\n\u001b[32m      3\u001b[39m \u001b[38;5;28mprint\u001b[39m(file_path)\n",
      "\u001b[31mNameError\u001b[39m: name '__file__' is not defined"
     ]
    }
   ],
   "source": [
    "\n",
    "current_dir = os.path.dirname(os.path.realpath(__file__))\n",
    "file_path = os.path.join(current_dir, \"youtubeinfo.txt\")\n",
    "print(file_path)\n",
    "persist_directory = os.path.join(current_dir, \"db\",\"main_db\")\n",
    "print(persist_directory)\n"
   ]
  },
  {
   "cell_type": "code",
   "execution_count": null,
   "id": "1a7a2d94",
   "metadata": {},
   "outputs": [],
   "source": [
    "\n",
    "# retrival\n",
    "embeddings = VertexAIEmbeddings(model=\"text-embedding-004\")\n",
    "\n",
    "db = Chroma(persist_directory=persist_directory,\n",
    "            embedding_function=embeddings)\n",
    "\n",
    "retriever = db.as_retriever(\n",
    "    search_type=\"similarity_score_threshold\",\n",
    "    search_kwargs={\"k\": 3, \"score_threshold\": 0.1}, \n",
    ")\n"
   ]
  }
 ],
 "metadata": {
  "kernelspec": {
   "display_name": ".venv",
   "language": "python",
   "name": "python3"
  },
  "language_info": {
   "codemirror_mode": {
    "name": "ipython",
    "version": 3
   },
   "file_extension": ".py",
   "mimetype": "text/x-python",
   "name": "python",
   "nbconvert_exporter": "python",
   "pygments_lexer": "ipython3",
   "version": "3.11.0"
  }
 },
 "nbformat": 4,
 "nbformat_minor": 5
}
