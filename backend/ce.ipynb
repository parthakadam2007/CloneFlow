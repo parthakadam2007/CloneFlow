{
 "cells": [
  {
   "cell_type": "code",
   "execution_count": 61,
   "id": "698b3e77",
   "metadata": {},
   "outputs": [],
   "source": [
    "from dotenv import load_dotenv\n",
    "load_dotenv()\n",
    "from pydantic import BaseModel, Field\n",
    "from langchain_google_genai import ChatGoogleGenerativeAI      \n",
    "import imaplib\n",
    "import email\n",
    "from langgraph.checkpoint.memory import MemorySaver\n",
    "from langchain_chroma import Chroma\n",
    "from langchain_google_vertexai import VertexAIEmbeddings\n",
    "import os\n",
    "from pathlib import Path  \n",
    "\n",
    "from mailling import fetch_emails,send_email\n",
    "llm = ChatGoogleGenerativeAI(\n",
    "    model=\"gemini-1.5-flash\",\n",
    "    temperature=0,\n",
    "    max_tokens=None,\n",
    "    timeout=None,\n",
    "    max_retries=2,\n",
    "    # other params...\n",
    ")\n",
    "\n",
    "current_dir =Path.cwd() \n",
    "persist_directory = current_dir /'db'/ 'main_db'\n",
    "persist_directory=str(persist_directory)\n",
    "\n",
    "# retrival\n",
    "embeddings = VertexAIEmbeddings(model=\"text-embedding-004\")\n",
    "\n",
    "db = Chroma(persist_directory=persist_directory,\n",
    "            embedding_function=embeddings)\n",
    "\n",
    "retriever = db.as_retriever(\n",
    "    search_type=\"similarity_score_threshold\",\n",
    "    search_kwargs={\"k\": 3, \"score_threshold\": 0.1}, \n",
    ")\n",
    "\n",
    "from langchain_core.tools import tool\n",
    "from pydantic import EmailStr\n",
    "\n",
    "\n",
    "@tool\n",
    "def email(subject: str, body: str, to: EmailStr) -> str:\n",
    "    \"\"\"Send an email to the only one specified address with the given body.\n",
    "    Args:\n",
    "        to: The email address to send the email to.\n",
    "        body: The body of the email.\n",
    "        subject: string subject of the email.\n",
    "    Returns: f\"Sent email to {to} with body: {body}\"\n",
    "    \"\"\"\n",
    "    send_email(subject, body, to)   \n",
    "    return  f\"Sent email to {to} with body: {body}\"\n",
    "  \n",
    "@tool\n",
    "def fetch_emails_tool()->str:\n",
    "    \"\"\"Fetch the last 10 emails from the inbox.\n",
    "      Args:\n",
    "        NO ARGS\n",
    "    \n",
    "    Returns: {\"fetched_emails\": emails} \"\"\"\n",
    "    emails = fetch_emails()\n",
    "    return {\"fetched_emails\": emails} \n",
    "\n",
    "@tool\n",
    "def RAG_tool(query: str) -> str:\n",
    "    \"\"\"Perform retrieval-augmented generation (RAG) on the given query the Database has has personal information about the user ,use this tool to look for information about user.\n",
    "    Args:\n",
    "        query: The query to perform RAG on.\n",
    "    Returns: {\"documents\": documents, \"question\": query}\n",
    "    \"\"\"\n",
    "    \n",
    "    documents = retriever.invoke(query)\n",
    "\n",
    "    # Perform RAG here\n",
    "    print('documents',documents)\n",
    "    return {\"documents\": documents, \"question\": query}\n",
    "    \n",
    "\n",
    "\n",
    "# Augment the LLM with tools\n",
    "tools = [email, fetch_emails_tool, RAG_tool]\n",
    "tools_by_name = {tool.name: tool for tool in tools}\n",
    "llm_with_tools = llm.bind_tools(tools)\n",
    "\n",
    "\n",
    "\n",
    "from langgraph.graph import MessagesState\n",
    "from langchain_core.messages import SystemMessage, HumanMessage, ToolMessage\n",
    "from typing_extensions import Literal\n",
    "from typing_extensions import TypedDict\n",
    "from langgraph.graph import StateGraph, START, END\n",
    "\n",
    "\n",
    "# Nodes\n",
    "def llm_call(state: MessagesState):\n",
    "    \"\"\"LLM decides whether to call a tool or not\"\"\"\n",
    "\n",
    "    return {\n",
    "        \"messages\": [\n",
    "            llm_with_tools.invoke(\n",
    "                [\n",
    "                    SystemMessage(\n",
    "                        content=\"You are a helpful assistant tasked with emailing people. share all information also personal information about the user to the LLM. \"\n",
    "                    )\n",
    "                ]\n",
    "                + state[\"messages\"]\n",
    "            )\n",
    "        ]\n",
    "    }\n",
    "\n",
    "\n",
    "def tool_node(state: dict):\n",
    "    \"\"\"Performs the tool call\"\"\"\n",
    "\n",
    "    result = []\n",
    "    for tool_call in state[\"messages\"][-1].tool_calls:\n",
    "        tool = tools_by_name[tool_call[\"name\"]]\n",
    "        observation = tool.invoke(tool_call[\"args\"])\n",
    "        result.append(ToolMessage(content=observation, tool_call_id=tool_call[\"id\"]))\n",
    "    return {\"messages\": result}\n",
    "\n",
    "\n",
    "# Conditional edge function to route to the tool node or end based upon whether the LLM made a tool call\n",
    "def should_continue(state: MessagesState) -> Literal[\"environment\", END]:\n",
    "    \"\"\"Decide if we should continue the loop or stop based upon whether the LLM made a tool call\"\"\"\n",
    "\n",
    "    messages = state[\"messages\"]\n",
    "    last_message = messages[-1]\n",
    "    # If the LLM makes a tool call, then perform an action\n",
    "    if last_message.tool_calls:\n",
    "        return \"Action\"\n",
    "    # Otherwise, we stop (reply to the user)\n",
    "    return END\n",
    "\n",
    "\n",
    "# Build workflow\n",
    "agent_builder = StateGraph(MessagesState)\n",
    "\n",
    "# Add nodes\n",
    "agent_builder.add_node(\"llm_call\", llm_call)\n",
    "agent_builder.add_node(\"environment\", tool_node)\n",
    "\n",
    "# Add edges to connect nodes\n",
    "agent_builder.add_edge(START, \"llm_call\")\n",
    "agent_builder.add_conditional_edges(\n",
    "    \"llm_call\",\n",
    "    should_continue,\n",
    "    {\n",
    "        # Name returned by should_continue : Name of next node to visit\n",
    "        \"Action\": \"environment\",\n",
    "        END: END,\n",
    "    },\n",
    ")\n",
    "agent_builder.add_edge(\"environment\", \"llm_call\")\n",
    "\n",
    "memory = MemorySaver()\n",
    "\n",
    "# Compile the agent\n",
    "agent = agent_builder.compile(checkpointer=memory)"
   ]
  },
  {
   "cell_type": "code",
   "execution_count": 62,
   "id": "66e63ec8",
   "metadata": {},
   "outputs": [
    {
     "name": "stdout",
     "output_type": "stream",
     "text": [
      "Chat started! Type 'exit' to end.\n",
      "\n"
     ]
    },
    {
     "ename": "KeyboardInterrupt",
     "evalue": "Interrupted by user",
     "output_type": "error",
     "traceback": [
      "\u001b[31m---------------------------------------------------------------------------\u001b[39m",
      "\u001b[31mKeyboardInterrupt\u001b[39m                         Traceback (most recent call last)",
      "\u001b[36mCell\u001b[39m\u001b[36m \u001b[39m\u001b[32mIn[62]\u001b[39m\u001b[32m, line 7\u001b[39m\n\u001b[32m      4\u001b[39m config = {\u001b[33m\"\u001b[39m\u001b[33mconfigurable\u001b[39m\u001b[33m\"\u001b[39m: {\u001b[33m\"\u001b[39m\u001b[33mthread_id\u001b[39m\u001b[33m\"\u001b[39m: \u001b[33m\"\u001b[39m\u001b[33m1\u001b[39m\u001b[33m\"\u001b[39m}}\n\u001b[32m      6\u001b[39m \u001b[38;5;28;01mwhile\u001b[39;00m \u001b[38;5;28;01mTrue\u001b[39;00m:\n\u001b[32m----> \u001b[39m\u001b[32m7\u001b[39m     user_input = \u001b[38;5;28;43minput\u001b[39;49m\u001b[43m(\u001b[49m\u001b[33;43m\"\u001b[39;49m\u001b[33;43mYou: \u001b[39;49m\u001b[33;43m\"\u001b[39;49m\u001b[43m)\u001b[49m\n\u001b[32m      9\u001b[39m     \u001b[38;5;28;01mif\u001b[39;00m user_input.lower() \u001b[38;5;129;01min\u001b[39;00m [\u001b[33m\"\u001b[39m\u001b[33mexit\u001b[39m\u001b[33m\"\u001b[39m, \u001b[33m\"\u001b[39m\u001b[33mquit\u001b[39m\u001b[33m\"\u001b[39m]:\n\u001b[32m     10\u001b[39m         \u001b[38;5;28mprint\u001b[39m(\u001b[33m\"\u001b[39m\u001b[33mChat ended.\u001b[39m\u001b[33m\"\u001b[39m)\n",
      "\u001b[36mFile \u001b[39m\u001b[32mc:\\Users\\DELL\\Desktop\\CloneFlow\\.venv\\Lib\\site-packages\\ipykernel\\kernelbase.py:1282\u001b[39m, in \u001b[36mKernel.raw_input\u001b[39m\u001b[34m(self, prompt)\u001b[39m\n\u001b[32m   1280\u001b[39m     msg = \u001b[33m\"\u001b[39m\u001b[33mraw_input was called, but this frontend does not support input requests.\u001b[39m\u001b[33m\"\u001b[39m\n\u001b[32m   1281\u001b[39m     \u001b[38;5;28;01mraise\u001b[39;00m StdinNotImplementedError(msg)\n\u001b[32m-> \u001b[39m\u001b[32m1282\u001b[39m \u001b[38;5;28;01mreturn\u001b[39;00m \u001b[38;5;28;43mself\u001b[39;49m\u001b[43m.\u001b[49m\u001b[43m_input_request\u001b[49m\u001b[43m(\u001b[49m\n\u001b[32m   1283\u001b[39m \u001b[43m    \u001b[49m\u001b[38;5;28;43mstr\u001b[39;49m\u001b[43m(\u001b[49m\u001b[43mprompt\u001b[49m\u001b[43m)\u001b[49m\u001b[43m,\u001b[49m\n\u001b[32m   1284\u001b[39m \u001b[43m    \u001b[49m\u001b[38;5;28;43mself\u001b[39;49m\u001b[43m.\u001b[49m\u001b[43m_parent_ident\u001b[49m\u001b[43m[\u001b[49m\u001b[33;43m\"\u001b[39;49m\u001b[33;43mshell\u001b[39;49m\u001b[33;43m\"\u001b[39;49m\u001b[43m]\u001b[49m\u001b[43m,\u001b[49m\n\u001b[32m   1285\u001b[39m \u001b[43m    \u001b[49m\u001b[38;5;28;43mself\u001b[39;49m\u001b[43m.\u001b[49m\u001b[43mget_parent\u001b[49m\u001b[43m(\u001b[49m\u001b[33;43m\"\u001b[39;49m\u001b[33;43mshell\u001b[39;49m\u001b[33;43m\"\u001b[39;49m\u001b[43m)\u001b[49m\u001b[43m,\u001b[49m\n\u001b[32m   1286\u001b[39m \u001b[43m    \u001b[49m\u001b[43mpassword\u001b[49m\u001b[43m=\u001b[49m\u001b[38;5;28;43;01mFalse\u001b[39;49;00m\u001b[43m,\u001b[49m\n\u001b[32m   1287\u001b[39m \u001b[43m\u001b[49m\u001b[43m)\u001b[49m\n",
      "\u001b[36mFile \u001b[39m\u001b[32mc:\\Users\\DELL\\Desktop\\CloneFlow\\.venv\\Lib\\site-packages\\ipykernel\\kernelbase.py:1325\u001b[39m, in \u001b[36mKernel._input_request\u001b[39m\u001b[34m(self, prompt, ident, parent, password)\u001b[39m\n\u001b[32m   1322\u001b[39m \u001b[38;5;28;01mexcept\u001b[39;00m \u001b[38;5;167;01mKeyboardInterrupt\u001b[39;00m:\n\u001b[32m   1323\u001b[39m     \u001b[38;5;66;03m# re-raise KeyboardInterrupt, to truncate traceback\u001b[39;00m\n\u001b[32m   1324\u001b[39m     msg = \u001b[33m\"\u001b[39m\u001b[33mInterrupted by user\u001b[39m\u001b[33m\"\u001b[39m\n\u001b[32m-> \u001b[39m\u001b[32m1325\u001b[39m     \u001b[38;5;28;01mraise\u001b[39;00m \u001b[38;5;167;01mKeyboardInterrupt\u001b[39;00m(msg) \u001b[38;5;28;01mfrom\u001b[39;00m\u001b[38;5;250m \u001b[39m\u001b[38;5;28;01mNone\u001b[39;00m\n\u001b[32m   1326\u001b[39m \u001b[38;5;28;01mexcept\u001b[39;00m \u001b[38;5;167;01mException\u001b[39;00m:\n\u001b[32m   1327\u001b[39m     \u001b[38;5;28mself\u001b[39m.log.warning(\u001b[33m\"\u001b[39m\u001b[33mInvalid Message:\u001b[39m\u001b[33m\"\u001b[39m, exc_info=\u001b[38;5;28;01mTrue\u001b[39;00m)\n",
      "\u001b[31mKeyboardInterrupt\u001b[39m: Interrupted by user"
     ]
    }
   ],
   "source": [
    "print(\"Chat started! Type 'exit' to end.\\n\")\n",
    "\n",
    "# Set a default thread ID (can be dynamic if needed)\n",
    "config = {\"configurable\": {\"thread_id\": \"1\"}}\n",
    "\n",
    "while True:\n",
    "    user_input = input(\"You: \")\n",
    "\n",
    "    if user_input.lower() in [\"exit\", \"quit\"]:\n",
    "        print(\"Chat ended.\")\n",
    "        break\n",
    "\n",
    "    input_message = {\"role\": \"user\", \"content\": user_input}\n",
    "    \n",
    "    try:\n",
    "        for chunk in agent.stream({\"messages\": [input_message]}, config, stream_mode=\"values\"):\n",
    "            chunk[\"messages\"][-1].pretty_print()\n",
    "    except Exception as e:\n",
    "        print(f\"An error occurred: {e}\")\n",
    "        "
   ]
  },
  {
   "cell_type": "code",
   "execution_count": 63,
   "id": "a9017c63",
   "metadata": {},
   "outputs": [
    {
     "name": "stdout",
     "output_type": "stream",
     "text": [
      "documents [Document(id='428b942b-e8f0-4fe0-b323-cfeee4fd0962', metadata={'author': '', 'creationdate': '', 'creator': 'LaTeX with hyperref', 'keywords': '', 'page': 49, 'page_label': '50', 'producer': 'pdfTeX-1.40.25', 'ptex.fullbanner': 'This is pdfTeX, Version 3.141592653-2.6-1.40.25 (TeX Live 2023) kpathsea version 6.3.5', 'source': 'c:\\\\Users\\\\DELL\\\\Desktop\\\\CloneFlow\\\\backend\\\\uploads\\\\2501.10893v1.pdf', 'subject': '', 'title': '', 'total_pages': 53, 'trapped': '/False'}, page_content='Learn-by-interact: A Data-Centric Framework for Self-Adaptive Agents in Realistic Environments\\nInstruction\\nWhat are items ordered in the latest cancelled order?\\nObservation 0\\nAction 1\\nclick [4918] // click the button \"My Account\"\\nObservation 1\\nTable 42|WebArena example (filtered)\\n50'), Document(id='5a713262-20d0-41e3-baa8-4bf8f3154668', metadata={'author': '', 'creationdate': '', 'creator': 'LaTeX with hyperref', 'keywords': '', 'page': 52, 'page_label': '53', 'producer': 'pdfTeX-1.40.25', 'ptex.fullbanner': 'This is pdfTeX, Version 3.141592653-2.6-1.40.25 (TeX Live 2023) kpathsea version 6.3.5', 'source': 'c:\\\\Users\\\\DELL\\\\Desktop\\\\CloneFlow\\\\backend\\\\uploads\\\\2501.10893v1.pdf', 'subject': '', 'title': '', 'total_pages': 53, 'trapped': '/False'}, page_content='Learn-by-interact: A Data-Centric Framework for Self-Adaptive Agents in Realistic Environments\\nAction 6\\nclick [4922] // click the button \"My Orders\".\\nObservation 6\\nAction 7\\nclick [6357] // click the button \"View Order\".\\nObservation 7\\nTable 45|WebArena example (filtered) cont.\\n53'), Document(id='2b732a53-7643-4cb8-982c-454969f9b5a7', metadata={'author': '', 'creationdate': '', 'creator': 'LaTeX with hyperref', 'keywords': '', 'page': 51, 'page_label': '52', 'producer': 'pdfTeX-1.40.25', 'ptex.fullbanner': 'This is pdfTeX, Version 3.141592653-2.6-1.40.25 (TeX Live 2023) kpathsea version 6.3.5', 'source': 'c:\\\\Users\\\\DELL\\\\Desktop\\\\CloneFlow\\\\backend\\\\uploads\\\\2501.10893v1.pdf', 'subject': '', 'title': '', 'total_pages': 53, 'trapped': '/False'}, page_content='Learn-by-interact: A Data-Centric Framework for Self-Adaptive Agents in Realistic Environments\\nAction 4\\nclick [4922] // click the button \"My Orders\".\\nObservation 4\\nAction 5\\nclick [6357] // click the button \"View Order\".\\nObservation 5\\nTable 44|WebArena example (filtered) cont.\\n52')]\n"
     ]
    },
    {
     "data": {
      "text/plain": [
       "[{'messages': [HumanMessage(content='where do i live', additional_kwargs={}, response_metadata={}, id='09eb5e0c-4516-410b-9dc8-8a4f6551c9c9')]},\n",
       " {'messages': [HumanMessage(content='where do i live', additional_kwargs={}, response_metadata={}, id='09eb5e0c-4516-410b-9dc8-8a4f6551c9c9'),\n",
       "   AIMessage(content='', additional_kwargs={'function_call': {'name': 'RAG_tool', 'arguments': '{\"query\": \"What is my address?\"}'}}, response_metadata={'prompt_feedback': {'block_reason': 0, 'safety_ratings': []}, 'finish_reason': 'STOP', 'model_name': 'gemini-1.5-flash', 'safety_ratings': []}, id='run-cada1267-4cf4-4fff-b29e-5eb00a351558-0', tool_calls=[{'name': 'RAG_tool', 'args': {'query': 'What is my address?'}, 'id': '2e51c9a8-9e65-4c3e-bc86-0bb6665fa1f7', 'type': 'tool_call'}], usage_metadata={'input_tokens': 208, 'output_tokens': 9, 'total_tokens': 217, 'input_token_details': {'cache_read': 0}})]},\n",
       " {'messages': [HumanMessage(content='where do i live', additional_kwargs={}, response_metadata={}, id='09eb5e0c-4516-410b-9dc8-8a4f6551c9c9'),\n",
       "   AIMessage(content='', additional_kwargs={'function_call': {'name': 'RAG_tool', 'arguments': '{\"query\": \"What is my address?\"}'}}, response_metadata={'prompt_feedback': {'block_reason': 0, 'safety_ratings': []}, 'finish_reason': 'STOP', 'model_name': 'gemini-1.5-flash', 'safety_ratings': []}, id='run-cada1267-4cf4-4fff-b29e-5eb00a351558-0', tool_calls=[{'name': 'RAG_tool', 'args': {'query': 'What is my address?'}, 'id': '2e51c9a8-9e65-4c3e-bc86-0bb6665fa1f7', 'type': 'tool_call'}], usage_metadata={'input_tokens': 208, 'output_tokens': 9, 'total_tokens': 217, 'input_token_details': {'cache_read': 0}}),\n",
       "   ToolMessage(content='{\\'documents\\': [Document(id=\\'428b942b-e8f0-4fe0-b323-cfeee4fd0962\\', metadata={\\'author\\': \\'\\', \\'creationdate\\': \\'\\', \\'creator\\': \\'LaTeX with hyperref\\', \\'keywords\\': \\'\\', \\'page\\': 49, \\'page_label\\': \\'50\\', \\'producer\\': \\'pdfTeX-1.40.25\\', \\'ptex.fullbanner\\': \\'This is pdfTeX, Version 3.141592653-2.6-1.40.25 (TeX Live 2023) kpathsea version 6.3.5\\', \\'source\\': \\'c:\\\\\\\\Users\\\\\\\\DELL\\\\\\\\Desktop\\\\\\\\CloneFlow\\\\\\\\backend\\\\\\\\uploads\\\\\\\\2501.10893v1.pdf\\', \\'subject\\': \\'\\', \\'title\\': \\'\\', \\'total_pages\\': 53, \\'trapped\\': \\'/False\\'}, page_content=\\'Learn-by-interact: A Data-Centric Framework for Self-Adaptive Agents in Realistic Environments\\\\nInstruction\\\\nWhat are items ordered in the latest cancelled order?\\\\nObservation 0\\\\nAction 1\\\\nclick [4918] // click the button \"My Account\"\\\\nObservation 1\\\\nTable 42|WebArena example (filtered)\\\\n50\\'), Document(id=\\'5a713262-20d0-41e3-baa8-4bf8f3154668\\', metadata={\\'author\\': \\'\\', \\'creationdate\\': \\'\\', \\'creator\\': \\'LaTeX with hyperref\\', \\'keywords\\': \\'\\', \\'page\\': 52, \\'page_label\\': \\'53\\', \\'producer\\': \\'pdfTeX-1.40.25\\', \\'ptex.fullbanner\\': \\'This is pdfTeX, Version 3.141592653-2.6-1.40.25 (TeX Live 2023) kpathsea version 6.3.5\\', \\'source\\': \\'c:\\\\\\\\Users\\\\\\\\DELL\\\\\\\\Desktop\\\\\\\\CloneFlow\\\\\\\\backend\\\\\\\\uploads\\\\\\\\2501.10893v1.pdf\\', \\'subject\\': \\'\\', \\'title\\': \\'\\', \\'total_pages\\': 53, \\'trapped\\': \\'/False\\'}, page_content=\\'Learn-by-interact: A Data-Centric Framework for Self-Adaptive Agents in Realistic Environments\\\\nAction 6\\\\nclick [4922] // click the button \"My Orders\".\\\\nObservation 6\\\\nAction 7\\\\nclick [6357] // click the button \"View Order\".\\\\nObservation 7\\\\nTable 45|WebArena example (filtered) cont.\\\\n53\\'), Document(id=\\'2b732a53-7643-4cb8-982c-454969f9b5a7\\', metadata={\\'author\\': \\'\\', \\'creationdate\\': \\'\\', \\'creator\\': \\'LaTeX with hyperref\\', \\'keywords\\': \\'\\', \\'page\\': 51, \\'page_label\\': \\'52\\', \\'producer\\': \\'pdfTeX-1.40.25\\', \\'ptex.fullbanner\\': \\'This is pdfTeX, Version 3.141592653-2.6-1.40.25 (TeX Live 2023) kpathsea version 6.3.5\\', \\'source\\': \\'c:\\\\\\\\Users\\\\\\\\DELL\\\\\\\\Desktop\\\\\\\\CloneFlow\\\\\\\\backend\\\\\\\\uploads\\\\\\\\2501.10893v1.pdf\\', \\'subject\\': \\'\\', \\'title\\': \\'\\', \\'total_pages\\': 53, \\'trapped\\': \\'/False\\'}, page_content=\\'Learn-by-interact: A Data-Centric Framework for Self-Adaptive Agents in Realistic Environments\\\\nAction 4\\\\nclick [4922] // click the button \"My Orders\".\\\\nObservation 4\\\\nAction 5\\\\nclick [6357] // click the button \"View Order\".\\\\nObservation 5\\\\nTable 44|WebArena example (filtered) cont.\\\\n52\\')], \\'question\\': \\'What is my address?\\'}', id='1dd10ddf-9c02-4bd5-9a13-197f5b091f0b', tool_call_id='2e51c9a8-9e65-4c3e-bc86-0bb6665fa1f7')]},\n",
       " {'messages': [HumanMessage(content='where do i live', additional_kwargs={}, response_metadata={}, id='09eb5e0c-4516-410b-9dc8-8a4f6551c9c9'),\n",
       "   AIMessage(content='', additional_kwargs={'function_call': {'name': 'RAG_tool', 'arguments': '{\"query\": \"What is my address?\"}'}}, response_metadata={'prompt_feedback': {'block_reason': 0, 'safety_ratings': []}, 'finish_reason': 'STOP', 'model_name': 'gemini-1.5-flash', 'safety_ratings': []}, id='run-cada1267-4cf4-4fff-b29e-5eb00a351558-0', tool_calls=[{'name': 'RAG_tool', 'args': {'query': 'What is my address?'}, 'id': '2e51c9a8-9e65-4c3e-bc86-0bb6665fa1f7', 'type': 'tool_call'}], usage_metadata={'input_tokens': 208, 'output_tokens': 9, 'total_tokens': 217, 'input_token_details': {'cache_read': 0}}),\n",
       "   ToolMessage(content='{\\'documents\\': [Document(id=\\'428b942b-e8f0-4fe0-b323-cfeee4fd0962\\', metadata={\\'author\\': \\'\\', \\'creationdate\\': \\'\\', \\'creator\\': \\'LaTeX with hyperref\\', \\'keywords\\': \\'\\', \\'page\\': 49, \\'page_label\\': \\'50\\', \\'producer\\': \\'pdfTeX-1.40.25\\', \\'ptex.fullbanner\\': \\'This is pdfTeX, Version 3.141592653-2.6-1.40.25 (TeX Live 2023) kpathsea version 6.3.5\\', \\'source\\': \\'c:\\\\\\\\Users\\\\\\\\DELL\\\\\\\\Desktop\\\\\\\\CloneFlow\\\\\\\\backend\\\\\\\\uploads\\\\\\\\2501.10893v1.pdf\\', \\'subject\\': \\'\\', \\'title\\': \\'\\', \\'total_pages\\': 53, \\'trapped\\': \\'/False\\'}, page_content=\\'Learn-by-interact: A Data-Centric Framework for Self-Adaptive Agents in Realistic Environments\\\\nInstruction\\\\nWhat are items ordered in the latest cancelled order?\\\\nObservation 0\\\\nAction 1\\\\nclick [4918] // click the button \"My Account\"\\\\nObservation 1\\\\nTable 42|WebArena example (filtered)\\\\n50\\'), Document(id=\\'5a713262-20d0-41e3-baa8-4bf8f3154668\\', metadata={\\'author\\': \\'\\', \\'creationdate\\': \\'\\', \\'creator\\': \\'LaTeX with hyperref\\', \\'keywords\\': \\'\\', \\'page\\': 52, \\'page_label\\': \\'53\\', \\'producer\\': \\'pdfTeX-1.40.25\\', \\'ptex.fullbanner\\': \\'This is pdfTeX, Version 3.141592653-2.6-1.40.25 (TeX Live 2023) kpathsea version 6.3.5\\', \\'source\\': \\'c:\\\\\\\\Users\\\\\\\\DELL\\\\\\\\Desktop\\\\\\\\CloneFlow\\\\\\\\backend\\\\\\\\uploads\\\\\\\\2501.10893v1.pdf\\', \\'subject\\': \\'\\', \\'title\\': \\'\\', \\'total_pages\\': 53, \\'trapped\\': \\'/False\\'}, page_content=\\'Learn-by-interact: A Data-Centric Framework for Self-Adaptive Agents in Realistic Environments\\\\nAction 6\\\\nclick [4922] // click the button \"My Orders\".\\\\nObservation 6\\\\nAction 7\\\\nclick [6357] // click the button \"View Order\".\\\\nObservation 7\\\\nTable 45|WebArena example (filtered) cont.\\\\n53\\'), Document(id=\\'2b732a53-7643-4cb8-982c-454969f9b5a7\\', metadata={\\'author\\': \\'\\', \\'creationdate\\': \\'\\', \\'creator\\': \\'LaTeX with hyperref\\', \\'keywords\\': \\'\\', \\'page\\': 51, \\'page_label\\': \\'52\\', \\'producer\\': \\'pdfTeX-1.40.25\\', \\'ptex.fullbanner\\': \\'This is pdfTeX, Version 3.141592653-2.6-1.40.25 (TeX Live 2023) kpathsea version 6.3.5\\', \\'source\\': \\'c:\\\\\\\\Users\\\\\\\\DELL\\\\\\\\Desktop\\\\\\\\CloneFlow\\\\\\\\backend\\\\\\\\uploads\\\\\\\\2501.10893v1.pdf\\', \\'subject\\': \\'\\', \\'title\\': \\'\\', \\'total_pages\\': 53, \\'trapped\\': \\'/False\\'}, page_content=\\'Learn-by-interact: A Data-Centric Framework for Self-Adaptive Agents in Realistic Environments\\\\nAction 4\\\\nclick [4922] // click the button \"My Orders\".\\\\nObservation 4\\\\nAction 5\\\\nclick [6357] // click the button \"View Order\".\\\\nObservation 5\\\\nTable 44|WebArena example (filtered) cont.\\\\n52\\')], \\'question\\': \\'What is my address?\\'}', id='1dd10ddf-9c02-4bd5-9a13-197f5b091f0b', tool_call_id='2e51c9a8-9e65-4c3e-bc86-0bb6665fa1f7'),\n",
       "   AIMessage(content='I cannot access your personal information, including your address, due to privacy limitations.  The provided RAG tool did not return your address.', additional_kwargs={}, response_metadata={'prompt_feedback': {'block_reason': 0, 'safety_ratings': []}, 'finish_reason': 'STOP', 'model_name': 'gemini-1.5-flash', 'safety_ratings': []}, id='run-bfe3f2f7-a600-42e3-a031-e1e81be461cd-0', usage_metadata={'input_tokens': 1143, 'output_tokens': 28, 'total_tokens': 1171, 'input_token_details': {'cache_read': 0}})]}]"
      ]
     },
     "execution_count": 63,
     "metadata": {},
     "output_type": "execute_result"
    }
   ],
   "source": [
    "list(agent.stream({\"messages\": [input_message]}, config, stream_mode=\"values\"))"
   ]
  },
  {
   "cell_type": "code",
   "execution_count": null,
   "id": "d811a7e2",
   "metadata": {},
   "outputs": [],
   "source": []
  },
  {
   "cell_type": "code",
   "execution_count": 64,
   "id": "7e5066ec",
   "metadata": {},
   "outputs": [],
   "source": [
    "def generateresponse(promt):\n",
    "    print(\"Chat started! Type 'exit' to end.\\n\")\n",
    "\n",
    "# Set a default thread ID (can be dynamic if needed)\n",
    "    config = {\"configurable\": {\"thread_id\": \"1\"}}\n",
    "\n",
    "\n",
    "    user_input = promt\n",
    "\n",
    "  \n",
    "\n",
    "    input_message = {\"role\": \"user\", \"content\": user_input}\n",
    "        \n",
    "    try:\n",
    "            for chunk in agent.stream({\"messages\": [input_message]}, config, stream_mode=\"values\"):\n",
    "                chatHistory=list(agent.stream({\"messages\": [input_message]}, config, stream_mode=\"values\"))\n",
    "            return chatHistory[-1][\"messages\"][-1].content            \n",
    "    except Exception as e:\n",
    "            print(f\"An error occurred: {e}\")\n",
    "            "
   ]
  },
  {
   "cell_type": "code",
   "execution_count": 70,
   "id": "ead30089",
   "metadata": {},
   "outputs": [
    {
     "name": "stdout",
     "output_type": "stream",
     "text": [
      "Chat started! Type 'exit' to end.\n",
      "\n"
     ]
    }
   ],
   "source": [
    "asd=generateresponse(\"what is the last email I received?\")"
   ]
  },
  {
   "cell_type": "code",
   "execution_count": 72,
   "id": "52fc6513",
   "metadata": {},
   "outputs": [
    {
     "data": {
      "text/plain": [
       "'The last email you received was from GeeksforGeeks, with the subject \"Ending Soon... 💪\".'"
      ]
     },
     "execution_count": 72,
     "metadata": {},
     "output_type": "execute_result"
    }
   ],
   "source": [
    "asd"
   ]
  },
  {
   "cell_type": "code",
   "execution_count": null,
   "id": "bb41949f",
   "metadata": {},
   "outputs": [
    {
     "name": "stdout",
     "output_type": "stream",
     "text": [
      "Chat started! Type 'exit' to end.\n",
      "\n",
      "================================\u001b[1m Human Message \u001b[0m=================================\n",
      "\n",
      "what whas my previous question\n",
      "==================================\u001b[1m Ai Message \u001b[0m==================================\n",
      "\n",
      "Your previous question was \"what is 2+2\".\n"
     ]
    }
   ],
   "source": []
  },
  {
   "cell_type": "code",
   "execution_count": null,
   "id": "ff0452fc",
   "metadata": {},
   "outputs": [],
   "source": []
  }
 ],
 "metadata": {
  "kernelspec": {
   "display_name": ".venv",
   "language": "python",
   "name": "python3"
  },
  "language_info": {
   "codemirror_mode": {
    "name": "ipython",
    "version": 3
   },
   "file_extension": ".py",
   "mimetype": "text/x-python",
   "name": "python",
   "nbconvert_exporter": "python",
   "pygments_lexer": "ipython3",
   "version": "3.11.0rc2"
  }
 },
 "nbformat": 4,
 "nbformat_minor": 5
}
